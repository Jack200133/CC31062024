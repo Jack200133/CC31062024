{
 "cells": [
  {
   "metadata": {
    "ExecuteTime": {
     "end_time": "2024-08-17T01:27:42.275396Z",
     "start_time": "2024-08-17T01:27:37.637311Z"
    }
   },
   "cell_type": "code",
   "source": [
    "from transformers import pipeline, AutoTokenizer,AutoModelForSequenceClassification\n",
    "import shap\n",
    "import torch\n",
    "import numpy as np\n",
    "import matplotlib.pyplot as plt"
   ],
   "id": "bd23b7bca2e3b7be",
   "outputs": [],
   "execution_count": 1
  },
  {
   "metadata": {
    "ExecuteTime": {
     "end_time": "2024-08-17T01:29:44.938007Z",
     "start_time": "2024-08-17T01:28:12.982379Z"
    }
   },
   "cell_type": "code",
   "source": [
    "model_name = \"distilbert-base-uncased-finetuned-sst-2-english\"\n",
    "classifier = pipeline(\n",
    "    \"sentiment-analysis\",\n",
    "    model=model_name,\n",
    "    device=-1\n",
    ")"
   ],
   "id": "b4d2d00edc548d06",
   "outputs": [
    {
     "data": {
      "text/plain": [
       "config.json:   0%|          | 0.00/629 [00:00<?, ?B/s]"
      ],
      "application/vnd.jupyter.widget-view+json": {
       "version_major": 2,
       "version_minor": 0,
       "model_id": "14659d64b12944c1af867f48c3f280a5"
      }
     },
     "metadata": {},
     "output_type": "display_data"
    },
    {
     "name": "stderr",
     "output_type": "stream",
     "text": [
      "D:\\Proyectos\\X\\ResponsableAI\\v2.venv\\lib\\site-packages\\huggingface_hub\\file_download.py:159: UserWarning: `huggingface_hub` cache-system uses symlinks by default to efficiently store duplicated files but your machine does not support them in C:\\Users\\angel\\.cache\\huggingface\\hub\\models--distilbert-base-uncased-finetuned-sst-2-english. Caching files will still work but in a degraded version that might require more space on your disk. This warning can be disabled by setting the `HF_HUB_DISABLE_SYMLINKS_WARNING` environment variable. For more details, see https://huggingface.co/docs/huggingface_hub/how-to-cache#limitations.\n",
      "To support symlinks on Windows, you either need to activate Developer Mode or to run Python as an administrator. In order to see activate developer mode, see this article: https://docs.microsoft.com/en-us/windows/apps/get-started/enable-your-device-for-development\n",
      "  warnings.warn(message)\n"
     ]
    },
    {
     "data": {
      "text/plain": [
       "model.safetensors:   0%|          | 0.00/268M [00:00<?, ?B/s]"
      ],
      "application/vnd.jupyter.widget-view+json": {
       "version_major": 2,
       "version_minor": 0,
       "model_id": "fb85670f4d22462db521fc7810d20430"
      }
     },
     "metadata": {},
     "output_type": "display_data"
    },
    {
     "data": {
      "text/plain": [
       "tokenizer_config.json:   0%|          | 0.00/48.0 [00:00<?, ?B/s]"
      ],
      "application/vnd.jupyter.widget-view+json": {
       "version_major": 2,
       "version_minor": 0,
       "model_id": "12624a65678a4562be14f2b65e98172e"
      }
     },
     "metadata": {},
     "output_type": "display_data"
    },
    {
     "data": {
      "text/plain": [
       "vocab.txt:   0%|          | 0.00/232k [00:00<?, ?B/s]"
      ],
      "application/vnd.jupyter.widget-view+json": {
       "version_major": 2,
       "version_minor": 0,
       "model_id": "dd957b38f58c43f1a84fce95ea6f7f4c"
      }
     },
     "metadata": {},
     "output_type": "display_data"
    },
    {
     "name": "stderr",
     "output_type": "stream",
     "text": [
      "D:\\Proyectos\\X\\ResponsableAI\\v2.venv\\lib\\site-packages\\transformers\\tokenization_utils_base.py:1601: FutureWarning: `clean_up_tokenization_spaces` was not set. It will be set to `True` by default. This behavior will be depracted in transformers v4.45, and will be then set to `False` by default. For more details check this issue: https://github.com/huggingface/transformers/issues/31884\n",
      "  warnings.warn(\n"
     ]
    }
   ],
   "execution_count": 2
  },
  {
   "metadata": {
    "ExecuteTime": {
     "end_time": "2024-08-17T01:29:45.276014Z",
     "start_time": "2024-08-17T01:29:44.941657Z"
    }
   },
   "cell_type": "code",
   "source": [
    "tokenizer = AutoTokenizer.from_pretrained(model_name)\n",
    "model = AutoModelForSequenceClassification.from_pretrained(model_name)"
   ],
   "id": "6cb0755144c212c2",
   "outputs": [],
   "execution_count": 3
  },
  {
   "metadata": {
    "ExecuteTime": {
     "end_time": "2024-08-17T01:33:48.206317Z",
     "start_time": "2024-08-17T01:33:48.190316Z"
    }
   },
   "cell_type": "code",
   "source": [
    "def f(x):\n",
    "    tv = torch.tensor([tokenizer.encode(v,padding='max_length',max_length=512,truncation=True) for v in x])\n",
    "    \n",
    "    outputs = model(tv)[0].detach().numpy()\n",
    "    \n",
    "    scores = (np.exp(outputs).T/ np.exp(outputs).sum(-1)).T\n",
    "    return scores[:,-1]"
   ],
   "id": "f4e577871ea8af5d",
   "outputs": [],
   "execution_count": 4
  },
  {
   "metadata": {
    "ExecuteTime": {
     "end_time": "2024-08-17T01:33:49.756524Z",
     "start_time": "2024-08-17T01:33:49.740516Z"
    }
   },
   "cell_type": "code",
   "source": "explainer = shap.Explainer(f,tokenizer)",
   "id": "352f701c3ad04b6c",
   "outputs": [],
   "execution_count": 5
  },
  {
   "metadata": {
    "ExecuteTime": {
     "end_time": "2024-08-17T01:37:51.867064Z",
     "start_time": "2024-08-17T01:37:51.851061Z"
    }
   },
   "cell_type": "code",
   "source": [
    "def analyze_sentiment(text):\n",
    "    result = classifier(text)[0]\n",
    "    return f\"Sentiment: {result['label']}, Score: {result['score']}\""
   ],
   "id": "e9f91964cf504e85",
   "outputs": [],
   "execution_count": 7
  },
  {
   "metadata": {
    "ExecuteTime": {
     "end_time": "2024-08-17T01:37:06.681961Z",
     "start_time": "2024-08-17T01:37:06.657846Z"
    }
   },
   "cell_type": "code",
   "source": [
    "def get_shap_values(text):\n",
    "    return explainer([text])"
   ],
   "id": "e6cd41cb1c5b3067",
   "outputs": [],
   "execution_count": 6
  },
  {
   "metadata": {
    "ExecuteTime": {
     "end_time": "2024-08-17T01:38:52.690780Z",
     "start_time": "2024-08-17T01:38:52.674756Z"
    }
   },
   "cell_type": "code",
   "source": [
    "def visualiza_shap(shap_values):\n",
    "    plt.figure(figsize=(20,3))\n",
    "    shap.plots.text(shap_values[0])\n",
    "    plt.tight_layout()\n",
    "    plt.show()"
   ],
   "id": "4e054af7accfe91",
   "outputs": [],
   "execution_count": 8
  },
  {
   "metadata": {
    "ExecuteTime": {
     "end_time": "2024-08-17T01:40:07.758452Z",
     "start_time": "2024-08-17T01:40:07.742353Z"
    }
   },
   "cell_type": "code",
   "source": [
    "def analyze_text(text):\n",
    "    print(\"Text: \", text)\n",
    "    print(analyze_sentiment(text))\n",
    "    \n",
    "    shap_value = get_shap_values(text)\n",
    "    visualiza_shap(shap_value)\n",
    "    return shap_value"
   ],
   "id": "b99baf7848652c44",
   "outputs": [],
   "execution_count": 9
  },
  {
   "metadata": {
    "ExecuteTime": {
     "end_time": "2024-08-17T01:57:01.500093Z",
     "start_time": "2024-08-17T01:56:53.464711Z"
    }
   },
   "cell_type": "code",
   "source": [
    "text = \"I meet the RUSSIA President\"\n",
    "\n",
    "analyze_text(text)"
   ],
   "id": "7412090cc7e91a",
   "outputs": [
    {
     "name": "stdout",
     "output_type": "stream",
     "text": [
      "Text:  I meet the RUSSIA President\n",
      "Sentiment: POSITIVE, Score: 0.9995201826095581\n"
     ]
    },
    {
     "data": {
      "text/plain": [
       "  0%|          | 0/42 [00:00<?, ?it/s]"
      ],
      "application/vnd.jupyter.widget-view+json": {
       "version_major": 2,
       "version_minor": 0,
       "model_id": "da3011f133ae4f5783d1659436480633"
      }
     },
     "metadata": {},
     "output_type": "display_data"
    },
    {
     "data": {
      "text/plain": [
       "<IPython.core.display.HTML object>"
      ],
      "text/html": [
       "<svg width=\"100%\" height=\"80px\"><line x1=\"0\" y1=\"33\" x2=\"100%\" y2=\"33\" style=\"stroke:rgb(150,150,150);stroke-width:1\" /><line x1=\"55.45958582509357%\" y1=\"33\" x2=\"55.45958582509357%\" y2=\"37\" style=\"stroke:rgb(150,150,150);stroke-width:1\" /><text x=\"55.45958582509357%\" y=\"27\" font-size=\"12px\" fill=\"rgb(120,120,120)\" dominant-baseline=\"bottom\" text-anchor=\"middle\">0.045</text><line x1=\"37.205781789707345%\" y1=\"33\" x2=\"37.205781789707345%\" y2=\"37\" style=\"stroke:rgb(150,150,150);stroke-width:1\" /><text x=\"37.205781789707345%\" y=\"27\" font-size=\"12px\" fill=\"rgb(120,120,120)\" dominant-baseline=\"bottom\" text-anchor=\"middle\">0.044</text><line x1=\"18.951977754321113%\" y1=\"33\" x2=\"18.951977754321113%\" y2=\"37\" style=\"stroke:rgb(150,150,150);stroke-width:1\" /><text x=\"18.951977754321113%\" y=\"27\" font-size=\"12px\" fill=\"rgb(120,120,120)\" dominant-baseline=\"bottom\" text-anchor=\"middle\">0.043</text><line x1=\"73.7133898604798%\" y1=\"33\" x2=\"73.7133898604798%\" y2=\"37\" style=\"stroke:rgb(150,150,150);stroke-width:1\" /><text x=\"73.7133898604798%\" y=\"27\" font-size=\"12px\" fill=\"rgb(120,120,120)\" dominant-baseline=\"bottom\" text-anchor=\"middle\">0.046</text><line x1=\"91.96719389586602%\" y1=\"33\" x2=\"91.96719389586602%\" y2=\"37\" style=\"stroke:rgb(150,150,150);stroke-width:1\" /><text x=\"91.96719389586602%\" y=\"27\" font-size=\"12px\" fill=\"rgb(120,120,120)\" dominant-baseline=\"bottom\" text-anchor=\"middle\">0.047</text><line x1=\"72.51317880068125%\" y1=\"33\" x2=\"72.51317880068125%\" y2=\"37\" style=\"stroke:rgb(150,150,150);stroke-width:1\" /><text x=\"72.51317880068125%\" y=\"27\" font-size=\"13px\" style=\"stroke:#ffffff;stroke-width:8px;\" fill=\"rgb(255,255,255)\" dominant-baseline=\"bottom\" text-anchor=\"middle\">0.0459342</text><text x=\"72.51317880068125%\" y=\"27\" font-size=\"12px\" fill=\"rgb(120,120,120)\" dominant-baseline=\"bottom\" text-anchor=\"middle\">0.0459342</text><text x=\"72.51317880068125%\" y=\"10\" font-size=\"12px\" fill=\"rgb(120,120,120)\" dominant-baseline=\"bottom\" text-anchor=\"middle\">base value</text><line x1=\"27.486638661278395%\" y1=\"33\" x2=\"27.486638661278395%\" y2=\"37\" style=\"stroke:rgb(150,150,150);stroke-width:1\" /><text x=\"27.486638661278395%\" y=\"27\" font-size=\"13px\" style=\"stroke:#ffffff;stroke-width:8px;\" font-weight=\"bold\" fill=\"rgb(255,255,255)\" dominant-baseline=\"bottom\" text-anchor=\"middle\">0.0434676</text><text x=\"27.486638661278395%\" y=\"27\" font-size=\"13px\" font-weight=\"bold\" fill=\"rgb(0,0,0)\" dominant-baseline=\"bottom\" text-anchor=\"middle\">0.0434676</text><text x=\"27.486638661278395%\" y=\"10\" font-size=\"12px\" fill=\"rgb(120,120,120)\" dominant-baseline=\"bottom\" text-anchor=\"middle\">f<tspan baseline-shift=\"sub\" font-size=\"8px\"></tspan>(inputs)</text><rect x=\"8.33331812182997%\" width=\"19.153320539448426%\" y=\"40\" height=\"18\" style=\"fill:rgb(255.0, 0.0, 81.08083606031792); stroke-width:0; stroke:rgb(0,0,0)\" /><line x1=\"15.391002254291136%\" x2=\"27.486638661278395%\" y1=\"60\" y2=\"60\" id=\"_fb_eneyceissnxmrcztslbu_ind_5\" style=\"stroke:rgb(255.0, 0.0, 81.08083606031792);stroke-width:2; opacity: 0\"/><text x=\"21.438820457784765%\" y=\"71\" font-size=\"12px\" id=\"_fs_eneyceissnxmrcztslbu_ind_5\" fill=\"rgb(255.0, 0.0, 81.08083606031792)\" style=\"opacity: 0\" dominant-baseline=\"middle\" text-anchor=\"middle\">0.001</text><svg x=\"15.391002254291136%\" y=\"40\" height=\"20\" width=\"12.095636406987259%\">  <svg x=\"0\" y=\"0\" width=\"100%\" height=\"100%\">    <text x=\"50%\" y=\"9\" font-size=\"12px\" fill=\"rgb(255,255,255)\" dominant-baseline=\"middle\" text-anchor=\"middle\">President</text>  </svg></svg><line x1=\"8.333369122369282%\" x2=\"15.391002254291136%\" y1=\"60\" y2=\"60\" id=\"_fb_eneyceissnxmrcztslbu_ind_3\" style=\"stroke:rgb(255.0, 0.0, 81.08083606031792);stroke-width:2; opacity: 0\"/><text x=\"11.862185688330209%\" y=\"71\" font-size=\"12px\" id=\"_fs_eneyceissnxmrcztslbu_ind_3\" fill=\"rgb(255.0, 0.0, 81.08083606031792)\" style=\"opacity: 0\" dominant-baseline=\"middle\" text-anchor=\"middle\">0.0</text><svg x=\"8.333369122369282%\" y=\"40\" height=\"20\" width=\"7.057633131921854%\">  <svg x=\"0\" y=\"0\" width=\"100%\" height=\"100%\">    <text x=\"50%\" y=\"9\" font-size=\"12px\" fill=\"rgb(255,255,255)\" dominant-baseline=\"middle\" text-anchor=\"middle\">the</text>  </svg></svg><line x1=\"8.33331812182997%\" x2=\"8.333369122369282%\" y1=\"60\" y2=\"60\" id=\"_fb_eneyceissnxmrcztslbu_ind_6\" style=\"stroke:rgb(255.0, 0.0, 81.08083606031792);stroke-width:2; opacity: 0\"/><text x=\"8.333343622099626%\" y=\"71\" font-size=\"12px\" id=\"_fs_eneyceissnxmrcztslbu_ind_6\" fill=\"rgb(255.0, 0.0, 81.08083606031792)\" style=\"opacity: 0\" dominant-baseline=\"middle\" text-anchor=\"middle\">0.0</text><svg x=\"8.33331812182997%\" y=\"40\" height=\"20\" width=\"5.1000539311729653e-05%\">  <svg x=\"0\" y=\"0\" width=\"100%\" height=\"100%\">    <text x=\"50%\" y=\"9\" font-size=\"12px\" fill=\"rgb(255,255,255)\" dominant-baseline=\"middle\" text-anchor=\"middle\"></text>  </svg></svg><g transform=\"translate(0,0)\">  <svg x=\"15.391002254291136%\" y=\"40\" height=\"18\" overflow=\"visible\" width=\"30\">    <path d=\"M 0 -9 l 6 18 L 0 25\" fill=\"none\" style=\"stroke:rgb(255.0, 0.0, 81.08083606031792);stroke-width:2\" />  </svg></g><g transform=\"translate(2,0)\">  <svg x=\"15.391002254291136%\" y=\"40\" height=\"18\" overflow=\"visible\" width=\"30\">    <path d=\"M 0 -9 l 6 18 L 0 25\" fill=\"none\" style=\"stroke:rgb(255.0, 0.0, 81.08083606031792);stroke-width:2\" />  </svg></g><g transform=\"translate(4,0)\">  <svg x=\"15.391002254291136%\" y=\"40\" height=\"18\" overflow=\"visible\" width=\"30\">    <path d=\"M 0 -9 l 6 18 L 0 25\" fill=\"none\" style=\"stroke:rgb(255.0, 0.0, 81.08083606031792);stroke-width:2\" />  </svg></g><g transform=\"translate(6,0)\">  <svg x=\"15.391002254291136%\" y=\"40\" height=\"18\" overflow=\"visible\" width=\"30\">    <path d=\"M 0 -9 l 6 18 L 0 25\" fill=\"none\" style=\"stroke:rgb(255.0, 0.0, 81.08083606031792);stroke-width:2\" />  </svg></g><g transform=\"translate(-8,0)\">  <svg x=\"15.391002254291136%\" y=\"40\" height=\"18\" overflow=\"visible\" width=\"30\">    <path d=\"M 0 -9 l 6 18 L 0 25\" fill=\"none\" style=\"stroke:rgb(255.0, 0.0, 81.08083606031792);stroke-width:2\" />  </svg></g><g transform=\"translate(-6,0)\">  <svg x=\"15.391002254291136%\" y=\"40\" height=\"18\" overflow=\"visible\" width=\"30\">    <path d=\"M 0 -9 l 6 18 L 0 25\" fill=\"none\" style=\"stroke:rgb(255.0, 0.0, 81.08083606031792);stroke-width:2\" />  </svg></g><g transform=\"translate(-4,0)\">  <svg x=\"15.391002254291136%\" y=\"40\" height=\"18\" overflow=\"visible\" width=\"30\">    <path d=\"M 0 -9 l 6 18 L 0 25\" fill=\"none\" style=\"stroke:rgb(255.0, 0.0, 81.08083606031792);stroke-width:2\" />  </svg></g><g transform=\"translate(-2,0)\">  <svg x=\"15.391002254291136%\" y=\"40\" height=\"18\" overflow=\"visible\" width=\"30\">    <path d=\"M 0 -9 l 6 18 L 0 25\" fill=\"none\" style=\"stroke:rgb(255.0, 0.0, 81.08083606031792);stroke-width:2\" />  </svg></g><g transform=\"translate(0,0)\">  <svg x=\"8.333369122369282%\" y=\"40\" height=\"18\" overflow=\"visible\" width=\"30\">    <path d=\"M 0 -9 l 6 18 L 0 25\" fill=\"none\" style=\"stroke:rgb(255.0, 0.0, 81.08083606031792);stroke-width:2\" />  </svg></g><g transform=\"translate(2,0)\">  <svg x=\"8.333369122369282%\" y=\"40\" height=\"18\" overflow=\"visible\" width=\"30\">    <path d=\"M 0 -9 l 6 18 L 0 25\" fill=\"none\" style=\"stroke:rgb(255.0, 0.0, 81.08083606031792);stroke-width:2\" />  </svg></g><g transform=\"translate(4,0)\">  <svg x=\"8.333369122369282%\" y=\"40\" height=\"18\" overflow=\"visible\" width=\"30\">    <path d=\"M 0 -9 l 6 18 L 0 25\" fill=\"none\" style=\"stroke:rgb(255.0, 0.0, 81.08083606031792);stroke-width:2\" />  </svg></g><g transform=\"translate(6,0)\">  <svg x=\"8.333369122369282%\" y=\"40\" height=\"18\" overflow=\"visible\" width=\"30\">    <path d=\"M 0 -9 l 6 18 L 0 25\" fill=\"none\" style=\"stroke:rgb(255.0, 0.0, 81.08083606031792);stroke-width:2\" />  </svg></g><g transform=\"translate(-8,0)\">  <svg x=\"8.333369122369282%\" y=\"40\" height=\"18\" overflow=\"visible\" width=\"30\">    <path d=\"M 0 -9 l 6 18 L 0 25\" fill=\"none\" style=\"stroke:rgb(255.0, 0.0, 81.08083606031792);stroke-width:2\" />  </svg></g><g transform=\"translate(-6,0)\">  <svg x=\"8.333369122369282%\" y=\"40\" height=\"18\" overflow=\"visible\" width=\"30\">    <path d=\"M 0 -9 l 6 18 L 0 25\" fill=\"none\" style=\"stroke:rgb(255.0, 0.0, 81.08083606031792);stroke-width:2\" />  </svg></g><g transform=\"translate(-4,0)\">  <svg x=\"8.333369122369282%\" y=\"40\" height=\"18\" overflow=\"visible\" width=\"30\">    <path d=\"M 0 -9 l 6 18 L 0 25\" fill=\"none\" style=\"stroke:rgb(255.0, 0.0, 81.08083606031792);stroke-width:2\" />  </svg></g><g transform=\"translate(-2,0)\">  <svg x=\"8.333369122369282%\" y=\"40\" height=\"18\" overflow=\"visible\" width=\"30\">    <path d=\"M 0 -9 l 6 18 L 0 25\" fill=\"none\" style=\"stroke:rgb(255.0, 0.0, 81.08083606031792);stroke-width:2\" />  </svg></g><rect transform=\"translate(-8,0)\" x=\"27.486638661278395%\" y=\"40\" width=\"8\" height=\"18\" style=\"fill:rgb(255.0, 0.0, 81.08083606031792)\"/><g transform=\"translate(-11.5,0)\">  <svg x=\"8.33331812182997%\" y=\"40\" height=\"18\" overflow=\"visible\" width=\"30\">    <path d=\"M 10 -9 l 6 18 L 10 25 L 0 25 L 0 -9\" fill=\"#ffffff\" style=\"stroke:rgb(255,255,255);stroke-width:2\" />  </svg></g><g transform=\"translate(-1.5,0)\">  <svg x=\"27.486638661278395%\" y=\"40\" height=\"18\" overflow=\"visible\" width=\"30\">    <path d=\"M 0 -9 l 6 18 L 0 25\" fill=\"none\" style=\"stroke:rgb(255, 195, 213);stroke-width:2\" />  </svg></g><rect x=\"15.391002254291136%\" y=\"40\" height=\"20\" width=\"12.095636406987259%\"      onmouseover=\"document.getElementById('_tp_eneyceissnxmrcztslbu_ind_5').style.textDecoration = 'underline';document.getElementById('_fs_eneyceissnxmrcztslbu_ind_5').style.opacity = 1;document.getElementById('_fb_eneyceissnxmrcztslbu_ind_5').style.opacity = 1;\"      onmouseout=\"document.getElementById('_tp_eneyceissnxmrcztslbu_ind_5').style.textDecoration = 'none';document.getElementById('_fs_eneyceissnxmrcztslbu_ind_5').style.opacity = 0;document.getElementById('_fb_eneyceissnxmrcztslbu_ind_5').style.opacity = 0;\" style=\"fill:rgb(0,0,0,0)\" /><g transform=\"translate(-1.5,0)\">  <svg x=\"15.391002254291136%\" y=\"40\" height=\"18\" overflow=\"visible\" width=\"30\">    <path d=\"M 0 -9 l 6 18 L 0 25\" fill=\"none\" style=\"stroke:rgb(255, 195, 213);stroke-width:2\" />  </svg></g><rect x=\"8.333369122369282%\" y=\"40\" height=\"20\" width=\"7.057633131921854%\"      onmouseover=\"document.getElementById('_tp_eneyceissnxmrcztslbu_ind_3').style.textDecoration = 'underline';document.getElementById('_fs_eneyceissnxmrcztslbu_ind_3').style.opacity = 1;document.getElementById('_fb_eneyceissnxmrcztslbu_ind_3').style.opacity = 1;\"      onmouseout=\"document.getElementById('_tp_eneyceissnxmrcztslbu_ind_3').style.textDecoration = 'none';document.getElementById('_fs_eneyceissnxmrcztslbu_ind_3').style.opacity = 0;document.getElementById('_fb_eneyceissnxmrcztslbu_ind_3').style.opacity = 0;\" style=\"fill:rgb(0,0,0,0)\" /><rect x=\"8.33331812182997%\" y=\"40\" height=\"20\" width=\"5.1000539311729653e-05%\"      onmouseover=\"document.getElementById('_tp_eneyceissnxmrcztslbu_ind_6').style.textDecoration = 'underline';document.getElementById('_fs_eneyceissnxmrcztslbu_ind_6').style.opacity = 1;document.getElementById('_fb_eneyceissnxmrcztslbu_ind_6').style.opacity = 1;\"      onmouseout=\"document.getElementById('_tp_eneyceissnxmrcztslbu_ind_6').style.textDecoration = 'none';document.getElementById('_fs_eneyceissnxmrcztslbu_ind_6').style.opacity = 0;document.getElementById('_fb_eneyceissnxmrcztslbu_ind_6').style.opacity = 0;\" style=\"fill:rgb(0,0,0,0)\" /><rect x=\"27.486638661278395%\" width=\"64.17986067885128%\" y=\"40\" height=\"18\" style=\"fill:rgb(0.0, 138.56128015770727, 250.76166088685727); stroke-width:0; stroke:rgb(0,0,0)\" /><line x1=\"27.486638661278395%\" x2=\"55.59690341717755%\" y1=\"60\" y2=\"60\" id=\"_fb_eneyceissnxmrcztslbu_ind_4\" style=\"stroke:rgb(0.0, 138.56128015770727, 250.76166088685727);stroke-width:2; opacity: 0\"/><text x=\"41.541771039227974%\" y=\"71\" font-size=\"12px\" fill=\"rgb(0.0, 138.56128015770727, 250.76166088685727)\" id=\"_fs_eneyceissnxmrcztslbu_ind_4\" style=\"opacity: 0\" dominant-baseline=\"middle\" text-anchor=\"middle\">-0.002</text><svg x=\"27.486638661278395%\" y=\"40\" height=\"20\" width=\"28.110264755899156%\">  <svg x=\"0\" y=\"0\" width=\"100%\" height=\"100%\">    <text x=\"50%\" y=\"9\" font-size=\"12px\" fill=\"rgb(255,255,255)\" dominant-baseline=\"middle\" text-anchor=\"middle\">RUSSIA</text>  </svg></svg><line x1=\"55.59690341717755%\" x2=\"79.8070549307875%\" y1=\"60\" y2=\"60\" id=\"_fb_eneyceissnxmrcztslbu_ind_1\" style=\"stroke:rgb(0.0, 138.56128015770727, 250.76166088685727);stroke-width:2; opacity: 0\"/><text x=\"67.70197917398252%\" y=\"71\" font-size=\"12px\" fill=\"rgb(0.0, 138.56128015770727, 250.76166088685727)\" id=\"_fs_eneyceissnxmrcztslbu_ind_1\" style=\"opacity: 0\" dominant-baseline=\"middle\" text-anchor=\"middle\">-0.001</text><svg x=\"55.59690341717755%\" y=\"40\" height=\"20\" width=\"24.21015151360995%\">  <svg x=\"0\" y=\"0\" width=\"100%\" height=\"100%\">    <text x=\"50%\" y=\"9\" font-size=\"12px\" fill=\"rgb(255,255,255)\" dominant-baseline=\"middle\" text-anchor=\"middle\">I</text>  </svg></svg><line x1=\"79.8070549307875%\" x2=\"91.66645683968025%\" y1=\"60\" y2=\"60\" id=\"_fb_eneyceissnxmrcztslbu_ind_2\" style=\"stroke:rgb(0.0, 138.56128015770727, 250.76166088685727);stroke-width:2; opacity: 0\"/><text x=\"85.73675588523388%\" y=\"71\" font-size=\"12px\" fill=\"rgb(0.0, 138.56128015770727, 250.76166088685727)\" id=\"_fs_eneyceissnxmrcztslbu_ind_2\" style=\"opacity: 0\" dominant-baseline=\"middle\" text-anchor=\"middle\">-0.001</text><svg x=\"79.8070549307875%\" y=\"40\" height=\"20\" width=\"11.85940190889275%\">  <svg x=\"0\" y=\"0\" width=\"100%\" height=\"100%\">    <text x=\"50%\" y=\"9\" font-size=\"12px\" fill=\"rgb(255,255,255)\" dominant-baseline=\"middle\" text-anchor=\"middle\">meet</text>  </svg></svg><line x1=\"91.66645683968025%\" x2=\"91.66649934012968%\" y1=\"60\" y2=\"60\" id=\"_fb_eneyceissnxmrcztslbu_ind_0\" style=\"stroke:rgb(0.0, 138.56128015770727, 250.76166088685727);stroke-width:2; opacity: 0\"/><text x=\"91.66647808990496%\" y=\"71\" font-size=\"12px\" fill=\"rgb(0.0, 138.56128015770727, 250.76166088685727)\" id=\"_fs_eneyceissnxmrcztslbu_ind_0\" style=\"opacity: 0\" dominant-baseline=\"middle\" text-anchor=\"middle\">-0.0</text><svg x=\"91.66645683968025%\" y=\"40\" height=\"20\" width=\"4.250044942466502e-05%\">  <svg x=\"0\" y=\"0\" width=\"100%\" height=\"100%\">    <text x=\"50%\" y=\"9\" font-size=\"12px\" fill=\"rgb(255,255,255)\" dominant-baseline=\"middle\" text-anchor=\"middle\"></text>  </svg></svg><g transform=\"translate(-8,0)\">  <svg x=\"55.59690341717755%\" y=\"40\" height=\"18\" overflow=\"visible\" width=\"30\">    <path d=\"M 8 -9 l -6 18 L 8 25\" fill=\"none\" style=\"stroke:rgb(0.0, 138.56128015770727, 250.76166088685727);stroke-width:2\" />  </svg></g><g transform=\"translate(-10,0)\">  <svg x=\"55.59690341717755%\" y=\"40\" height=\"18\" overflow=\"visible\" width=\"30\">    <path d=\"M 8 -9 l -6 18 L 8 25\" fill=\"none\" style=\"stroke:rgb(0.0, 138.56128015770727, 250.76166088685727);stroke-width:2\" />  </svg></g><g transform=\"translate(-12,0)\">  <svg x=\"55.59690341717755%\" y=\"40\" height=\"18\" overflow=\"visible\" width=\"30\">    <path d=\"M 8 -9 l -6 18 L 8 25\" fill=\"none\" style=\"stroke:rgb(0.0, 138.56128015770727, 250.76166088685727);stroke-width:2\" />  </svg></g><g transform=\"translate(-14,0)\">  <svg x=\"55.59690341717755%\" y=\"40\" height=\"18\" overflow=\"visible\" width=\"30\">    <path d=\"M 8 -9 l -6 18 L 8 25\" fill=\"none\" style=\"stroke:rgb(0.0, 138.56128015770727, 250.76166088685727);stroke-width:2\" />  </svg></g><g transform=\"translate(2,0)\">  <svg x=\"55.59690341717755%\" y=\"40\" height=\"18\" overflow=\"visible\" width=\"30\">    <path d=\"M 8 -9 l -6 18 L 8 25\" fill=\"none\" style=\"stroke:rgb(0.0, 138.56128015770727, 250.76166088685727);stroke-width:2\" />  </svg></g><g transform=\"translate(0,0)\">  <svg x=\"55.59690341717755%\" y=\"40\" height=\"18\" overflow=\"visible\" width=\"30\">    <path d=\"M 8 -9 l -6 18 L 8 25\" fill=\"none\" style=\"stroke:rgb(0.0, 138.56128015770727, 250.76166088685727);stroke-width:2\" />  </svg></g><g transform=\"translate(-2,0)\">  <svg x=\"55.59690341717755%\" y=\"40\" height=\"18\" overflow=\"visible\" width=\"30\">    <path d=\"M 8 -9 l -6 18 L 8 25\" fill=\"none\" style=\"stroke:rgb(0.0, 138.56128015770727, 250.76166088685727);stroke-width:2\" />  </svg></g><g transform=\"translate(-4,0)\">  <svg x=\"55.59690341717755%\" y=\"40\" height=\"18\" overflow=\"visible\" width=\"30\">    <path d=\"M 8 -9 l -6 18 L 8 25\" fill=\"none\" style=\"stroke:rgb(0.0, 138.56128015770727, 250.76166088685727);stroke-width:2\" />  </svg></g><g transform=\"translate(-8,0)\">  <svg x=\"79.8070549307875%\" y=\"40\" height=\"18\" overflow=\"visible\" width=\"30\">    <path d=\"M 8 -9 l -6 18 L 8 25\" fill=\"none\" style=\"stroke:rgb(0.0, 138.56128015770727, 250.76166088685727);stroke-width:2\" />  </svg></g><g transform=\"translate(-10,0)\">  <svg x=\"79.8070549307875%\" y=\"40\" height=\"18\" overflow=\"visible\" width=\"30\">    <path d=\"M 8 -9 l -6 18 L 8 25\" fill=\"none\" style=\"stroke:rgb(0.0, 138.56128015770727, 250.76166088685727);stroke-width:2\" />  </svg></g><g transform=\"translate(-12,0)\">  <svg x=\"79.8070549307875%\" y=\"40\" height=\"18\" overflow=\"visible\" width=\"30\">    <path d=\"M 8 -9 l -6 18 L 8 25\" fill=\"none\" style=\"stroke:rgb(0.0, 138.56128015770727, 250.76166088685727);stroke-width:2\" />  </svg></g><g transform=\"translate(-14,0)\">  <svg x=\"79.8070549307875%\" y=\"40\" height=\"18\" overflow=\"visible\" width=\"30\">    <path d=\"M 8 -9 l -6 18 L 8 25\" fill=\"none\" style=\"stroke:rgb(0.0, 138.56128015770727, 250.76166088685727);stroke-width:2\" />  </svg></g><g transform=\"translate(2,0)\">  <svg x=\"79.8070549307875%\" y=\"40\" height=\"18\" overflow=\"visible\" width=\"30\">    <path d=\"M 8 -9 l -6 18 L 8 25\" fill=\"none\" style=\"stroke:rgb(0.0, 138.56128015770727, 250.76166088685727);stroke-width:2\" />  </svg></g><g transform=\"translate(0,0)\">  <svg x=\"79.8070549307875%\" y=\"40\" height=\"18\" overflow=\"visible\" width=\"30\">    <path d=\"M 8 -9 l -6 18 L 8 25\" fill=\"none\" style=\"stroke:rgb(0.0, 138.56128015770727, 250.76166088685727);stroke-width:2\" />  </svg></g><g transform=\"translate(-2,0)\">  <svg x=\"79.8070549307875%\" y=\"40\" height=\"18\" overflow=\"visible\" width=\"30\">    <path d=\"M 8 -9 l -6 18 L 8 25\" fill=\"none\" style=\"stroke:rgb(0.0, 138.56128015770727, 250.76166088685727);stroke-width:2\" />  </svg></g><g transform=\"translate(-4,0)\">  <svg x=\"79.8070549307875%\" y=\"40\" height=\"18\" overflow=\"visible\" width=\"30\">    <path d=\"M 8 -9 l -6 18 L 8 25\" fill=\"none\" style=\"stroke:rgb(0.0, 138.56128015770727, 250.76166088685727);stroke-width:2\" />  </svg></g><g transform=\"translate(-8,0)\">  <svg x=\"91.66645683968025%\" y=\"40\" height=\"18\" overflow=\"visible\" width=\"30\">    <path d=\"M 8 -9 l -6 18 L 8 25\" fill=\"none\" style=\"stroke:rgb(0.0, 138.56128015770727, 250.76166088685727);stroke-width:2\" />  </svg></g><g transform=\"translate(-10,0)\">  <svg x=\"91.66645683968025%\" y=\"40\" height=\"18\" overflow=\"visible\" width=\"30\">    <path d=\"M 8 -9 l -6 18 L 8 25\" fill=\"none\" style=\"stroke:rgb(0.0, 138.56128015770727, 250.76166088685727);stroke-width:2\" />  </svg></g><g transform=\"translate(-12,0)\">  <svg x=\"91.66645683968025%\" y=\"40\" height=\"18\" overflow=\"visible\" width=\"30\">    <path d=\"M 8 -9 l -6 18 L 8 25\" fill=\"none\" style=\"stroke:rgb(0.0, 138.56128015770727, 250.76166088685727);stroke-width:2\" />  </svg></g><g transform=\"translate(-14,0)\">  <svg x=\"91.66645683968025%\" y=\"40\" height=\"18\" overflow=\"visible\" width=\"30\">    <path d=\"M 8 -9 l -6 18 L 8 25\" fill=\"none\" style=\"stroke:rgb(0.0, 138.56128015770727, 250.76166088685727);stroke-width:2\" />  </svg></g><g transform=\"translate(2,0)\">  <svg x=\"91.66645683968025%\" y=\"40\" height=\"18\" overflow=\"visible\" width=\"30\">    <path d=\"M 8 -9 l -6 18 L 8 25\" fill=\"none\" style=\"stroke:rgb(0.0, 138.56128015770727, 250.76166088685727);stroke-width:2\" />  </svg></g><g transform=\"translate(0,0)\">  <svg x=\"91.66645683968025%\" y=\"40\" height=\"18\" overflow=\"visible\" width=\"30\">    <path d=\"M 8 -9 l -6 18 L 8 25\" fill=\"none\" style=\"stroke:rgb(0.0, 138.56128015770727, 250.76166088685727);stroke-width:2\" />  </svg></g><g transform=\"translate(-2,0)\">  <svg x=\"91.66645683968025%\" y=\"40\" height=\"18\" overflow=\"visible\" width=\"30\">    <path d=\"M 8 -9 l -6 18 L 8 25\" fill=\"none\" style=\"stroke:rgb(0.0, 138.56128015770727, 250.76166088685727);stroke-width:2\" />  </svg></g><g transform=\"translate(-4,0)\">  <svg x=\"91.66645683968025%\" y=\"40\" height=\"18\" overflow=\"visible\" width=\"30\">    <path d=\"M 8 -9 l -6 18 L 8 25\" fill=\"none\" style=\"stroke:rgb(0.0, 138.56128015770727, 250.76166088685727);stroke-width:2\" />  </svg></g><rect transform=\"translate(0,0)\" x=\"27.486638661278395%\" y=\"40\" width=\"8\" height=\"18\" style=\"fill:rgb(0.0, 138.56128015770727, 250.76166088685727)\"/><g transform=\"translate(-6.0,0)\">  <svg x=\"91.66649934012968%\" y=\"40\" height=\"18\" overflow=\"visible\" width=\"30\">    <path d=\"M 8 -9 l -6 18 L 8 25 L 20 25 L 20 -9\" fill=\"#ffffff\" style=\"stroke:rgb(255,255,255);stroke-width:2\" />  </svg></g><g transform=\"translate(-6.0,0)\">  <svg x=\"55.59690341717755%\" y=\"40\" height=\"18\" overflow=\"visible\" width=\"30\">    <path d=\"M 8 -9 l -6 18 L 8 25\" fill=\"none\" style=\"stroke:rgb(208, 230, 250);stroke-width:2\" />  </svg></g><rect x=\"27.486638661278395%\" y=\"40\" height=\"20\" width=\"28.110264755899156%\"      onmouseover=\"document.getElementById('_tp_eneyceissnxmrcztslbu_ind_4').style.textDecoration = 'underline';document.getElementById('_fs_eneyceissnxmrcztslbu_ind_4').style.opacity = 1;document.getElementById('_fb_eneyceissnxmrcztslbu_ind_4').style.opacity = 1;\"      onmouseout=\"document.getElementById('_tp_eneyceissnxmrcztslbu_ind_4').style.textDecoration = 'none';document.getElementById('_fs_eneyceissnxmrcztslbu_ind_4').style.opacity = 0;document.getElementById('_fb_eneyceissnxmrcztslbu_ind_4').style.opacity = 0;\" style=\"fill:rgb(0,0,0,0)\" /><g transform=\"translate(-6.0,0)\">  <svg x=\"79.8070549307875%\" y=\"40\" height=\"18\" overflow=\"visible\" width=\"30\">    <path d=\"M 8 -9 l -6 18 L 8 25\" fill=\"none\" style=\"stroke:rgb(208, 230, 250);stroke-width:2\" />  </svg></g><rect x=\"55.59690341717755%\" y=\"40\" height=\"20\" width=\"24.21015151360995%\"      onmouseover=\"document.getElementById('_tp_eneyceissnxmrcztslbu_ind_1').style.textDecoration = 'underline';document.getElementById('_fs_eneyceissnxmrcztslbu_ind_1').style.opacity = 1;document.getElementById('_fb_eneyceissnxmrcztslbu_ind_1').style.opacity = 1;\"      onmouseout=\"document.getElementById('_tp_eneyceissnxmrcztslbu_ind_1').style.textDecoration = 'none';document.getElementById('_fs_eneyceissnxmrcztslbu_ind_1').style.opacity = 0;document.getElementById('_fb_eneyceissnxmrcztslbu_ind_1').style.opacity = 0;\" style=\"fill:rgb(0,0,0,0)\" /><g transform=\"translate(-6.0,0)\">  <svg x=\"91.66645683968025%\" y=\"40\" height=\"18\" overflow=\"visible\" width=\"30\">    <path d=\"M 8 -9 l -6 18 L 8 25\" fill=\"none\" style=\"stroke:rgb(208, 230, 250);stroke-width:2\" />  </svg></g><rect x=\"79.8070549307875%\" y=\"40\" height=\"20\" width=\"11.85940190889275%\"      onmouseover=\"document.getElementById('_tp_eneyceissnxmrcztslbu_ind_2').style.textDecoration = 'underline';document.getElementById('_fs_eneyceissnxmrcztslbu_ind_2').style.opacity = 1;document.getElementById('_fb_eneyceissnxmrcztslbu_ind_2').style.opacity = 1;\"      onmouseout=\"document.getElementById('_tp_eneyceissnxmrcztslbu_ind_2').style.textDecoration = 'none';document.getElementById('_fs_eneyceissnxmrcztslbu_ind_2').style.opacity = 0;document.getElementById('_fb_eneyceissnxmrcztslbu_ind_2').style.opacity = 0;\" style=\"fill:rgb(0,0,0,0)\" /><rect x=\"91.66645683968025%\" y=\"40\" height=\"20\" width=\"4.250044942466502e-05%\"      onmouseover=\"document.getElementById('_tp_eneyceissnxmrcztslbu_ind_0').style.textDecoration = 'underline';document.getElementById('_fs_eneyceissnxmrcztslbu_ind_0').style.opacity = 1;document.getElementById('_fb_eneyceissnxmrcztslbu_ind_0').style.opacity = 1;\"      onmouseout=\"document.getElementById('_tp_eneyceissnxmrcztslbu_ind_0').style.textDecoration = 'none';document.getElementById('_fs_eneyceissnxmrcztslbu_ind_0').style.opacity = 0;document.getElementById('_fb_eneyceissnxmrcztslbu_ind_0').style.opacity = 0;\" style=\"fill:rgb(0,0,0,0)\" /></svg><div align='center'><div style=\"color: rgb(120,120,120); font-size: 12px; margin-top: -15px;\">inputs</div><div style='display: inline; text-align: center;'\n",
       "    ><div style='display: none; color: #999; padding-top: 0px; font-size: 12px;'>-0.0</div\n",
       "        ><div id='_tp_eneyceissnxmrcztslbu_ind_0'\n",
       "            style='display: inline; background: rgba(54.70588235294111, 122.49411764705886, 213.40784313725496, 0.0); border-radius: 3px; padding: 0px'\n",
       "            onclick=\"\n",
       "            if (this.previousSibling.style.display == 'none') {\n",
       "                this.previousSibling.style.display = 'block';\n",
       "                this.parentNode.style.display = 'inline-block';\n",
       "            } else {\n",
       "                this.previousSibling.style.display = 'none';\n",
       "                this.parentNode.style.display = 'inline';\n",
       "            }\"\n",
       "            onmouseover=\"document.getElementById('_fb_eneyceissnxmrcztslbu_ind_0').style.opacity = 1; document.getElementById('_fs_eneyceissnxmrcztslbu_ind_0').style.opacity = 1;\"\n",
       "            onmouseout=\"document.getElementById('_fb_eneyceissnxmrcztslbu_ind_0').style.opacity = 0; document.getElementById('_fs_eneyceissnxmrcztslbu_ind_0').style.opacity = 0;\"\n",
       "        ></div></div><div style='display: inline; text-align: center;'\n",
       "    ><div style='display: none; color: #999; padding-top: 0px; font-size: 12px;'>-0.001</div\n",
       "        ><div id='_tp_eneyceissnxmrcztslbu_ind_1'\n",
       "            style='display: inline; background: rgba(30.0, 136.0, 229.0, 0.865993265993266); border-radius: 3px; padding: 0px'\n",
       "            onclick=\"\n",
       "            if (this.previousSibling.style.display == 'none') {\n",
       "                this.previousSibling.style.display = 'block';\n",
       "                this.parentNode.style.display = 'inline-block';\n",
       "            } else {\n",
       "                this.previousSibling.style.display = 'none';\n",
       "                this.parentNode.style.display = 'inline';\n",
       "            }\"\n",
       "            onmouseover=\"document.getElementById('_fb_eneyceissnxmrcztslbu_ind_1').style.opacity = 1; document.getElementById('_fs_eneyceissnxmrcztslbu_ind_1').style.opacity = 1;\"\n",
       "            onmouseout=\"document.getElementById('_fb_eneyceissnxmrcztslbu_ind_1').style.opacity = 0; document.getElementById('_fs_eneyceissnxmrcztslbu_ind_1').style.opacity = 0;\"\n",
       "        >I </div></div><div style='display: inline; text-align: center;'\n",
       "    ><div style='display: none; color: #999; padding-top: 0px; font-size: 12px;'>-0.001</div\n",
       "        ><div id='_tp_eneyceissnxmrcztslbu_ind_2'\n",
       "            style='display: inline; background: rgba(30.0, 136.0, 229.0, 0.42455931867696567); border-radius: 3px; padding: 0px'\n",
       "            onclick=\"\n",
       "            if (this.previousSibling.style.display == 'none') {\n",
       "                this.previousSibling.style.display = 'block';\n",
       "                this.parentNode.style.display = 'inline-block';\n",
       "            } else {\n",
       "                this.previousSibling.style.display = 'none';\n",
       "                this.parentNode.style.display = 'inline';\n",
       "            }\"\n",
       "            onmouseover=\"document.getElementById('_fb_eneyceissnxmrcztslbu_ind_2').style.opacity = 1; document.getElementById('_fs_eneyceissnxmrcztslbu_ind_2').style.opacity = 1;\"\n",
       "            onmouseout=\"document.getElementById('_fb_eneyceissnxmrcztslbu_ind_2').style.opacity = 0; document.getElementById('_fs_eneyceissnxmrcztslbu_ind_2').style.opacity = 0;\"\n",
       "        >meet </div></div><div style='display: inline; text-align: center;'\n",
       "    ><div style='display: none; color: #999; padding-top: 0px; font-size: 12px;'>0.0</div\n",
       "        ><div id='_tp_eneyceissnxmrcztslbu_ind_3'\n",
       "            style='display: inline; background: rgba(255.0, 13.0, 87.0, 0.2511388393741335); border-radius: 3px; padding: 0px'\n",
       "            onclick=\"\n",
       "            if (this.previousSibling.style.display == 'none') {\n",
       "                this.previousSibling.style.display = 'block';\n",
       "                this.parentNode.style.display = 'inline-block';\n",
       "            } else {\n",
       "                this.previousSibling.style.display = 'none';\n",
       "                this.parentNode.style.display = 'inline';\n",
       "            }\"\n",
       "            onmouseover=\"document.getElementById('_fb_eneyceissnxmrcztslbu_ind_3').style.opacity = 1; document.getElementById('_fs_eneyceissnxmrcztslbu_ind_3').style.opacity = 1;\"\n",
       "            onmouseout=\"document.getElementById('_fb_eneyceissnxmrcztslbu_ind_3').style.opacity = 0; document.getElementById('_fs_eneyceissnxmrcztslbu_ind_3').style.opacity = 0;\"\n",
       "        >the </div></div><div style='display: inline; text-align: center;'\n",
       "    ><div style='display: none; color: #999; padding-top: 0px; font-size: 12px;'>-0.002</div\n",
       "        ><div id='_tp_eneyceissnxmrcztslbu_ind_4'\n",
       "            style='display: inline; background: rgba(30.0, 136.0, 229.0, 1.0); border-radius: 3px; padding: 0px'\n",
       "            onclick=\"\n",
       "            if (this.previousSibling.style.display == 'none') {\n",
       "                this.previousSibling.style.display = 'block';\n",
       "                this.parentNode.style.display = 'inline-block';\n",
       "            } else {\n",
       "                this.previousSibling.style.display = 'none';\n",
       "                this.parentNode.style.display = 'inline';\n",
       "            }\"\n",
       "            onmouseover=\"document.getElementById('_fb_eneyceissnxmrcztslbu_ind_4').style.opacity = 1; document.getElementById('_fs_eneyceissnxmrcztslbu_ind_4').style.opacity = 1;\"\n",
       "            onmouseout=\"document.getElementById('_fb_eneyceissnxmrcztslbu_ind_4').style.opacity = 0; document.getElementById('_fs_eneyceissnxmrcztslbu_ind_4').style.opacity = 0;\"\n",
       "        >RUSSIA </div></div><div style='display: inline; text-align: center;'\n",
       "    ><div style='display: none; color: #999; padding-top: 0px; font-size: 12px;'>0.001</div\n",
       "        ><div id='_tp_eneyceissnxmrcztslbu_ind_5'\n",
       "            style='display: inline; background: rgba(255.0, 13.0, 87.0, 0.43244206773618543); border-radius: 3px; padding: 0px'\n",
       "            onclick=\"\n",
       "            if (this.previousSibling.style.display == 'none') {\n",
       "                this.previousSibling.style.display = 'block';\n",
       "                this.parentNode.style.display = 'inline-block';\n",
       "            } else {\n",
       "                this.previousSibling.style.display = 'none';\n",
       "                this.parentNode.style.display = 'inline';\n",
       "            }\"\n",
       "            onmouseover=\"document.getElementById('_fb_eneyceissnxmrcztslbu_ind_5').style.opacity = 1; document.getElementById('_fs_eneyceissnxmrcztslbu_ind_5').style.opacity = 1;\"\n",
       "            onmouseout=\"document.getElementById('_fb_eneyceissnxmrcztslbu_ind_5').style.opacity = 0; document.getElementById('_fs_eneyceissnxmrcztslbu_ind_5').style.opacity = 0;\"\n",
       "        >President</div></div><div style='display: inline; text-align: center;'\n",
       "    ><div style='display: none; color: #999; padding-top: 0px; font-size: 12px;'>0.0</div\n",
       "        ><div id='_tp_eneyceissnxmrcztslbu_ind_6'\n",
       "            style='display: inline; background: rgba(230.2941176470614, 26.505882352939775, 102.59215686274348, 0.0); border-radius: 3px; padding: 0px'\n",
       "            onclick=\"\n",
       "            if (this.previousSibling.style.display == 'none') {\n",
       "                this.previousSibling.style.display = 'block';\n",
       "                this.parentNode.style.display = 'inline-block';\n",
       "            } else {\n",
       "                this.previousSibling.style.display = 'none';\n",
       "                this.parentNode.style.display = 'inline';\n",
       "            }\"\n",
       "            onmouseover=\"document.getElementById('_fb_eneyceissnxmrcztslbu_ind_6').style.opacity = 1; document.getElementById('_fs_eneyceissnxmrcztslbu_ind_6').style.opacity = 1;\"\n",
       "            onmouseout=\"document.getElementById('_fb_eneyceissnxmrcztslbu_ind_6').style.opacity = 0; document.getElementById('_fs_eneyceissnxmrcztslbu_ind_6').style.opacity = 0;\"\n",
       "        ></div></div></div>"
      ]
     },
     "metadata": {},
     "output_type": "display_data"
    },
    {
     "data": {
      "text/plain": [
       "<Figure size 2000x300 with 0 Axes>"
      ]
     },
     "metadata": {},
     "output_type": "display_data"
    },
    {
     "data": {
      "text/plain": [
       ".values =\n",
       "array([[-2.32830644e-09, -1.32630719e-03, -6.49694819e-04,\n",
       "         3.86639033e-04, -1.53996749e-03,  6.62636478e-04,\n",
       "         2.79396772e-09]])\n",
       "\n",
       ".base_values =\n",
       "array([0.04593425])\n",
       "\n",
       ".data =\n",
       "(array(['', 'I ', 'meet ', 'the ', 'RUSSIA ', 'President', ''],\n",
       "      dtype=object),)"
      ]
     },
     "execution_count": 17,
     "metadata": {},
     "output_type": "execute_result"
    }
   ],
   "execution_count": 17
  },
  {
   "metadata": {
    "ExecuteTime": {
     "end_time": "2024-08-17T01:54:27.880874Z",
     "start_time": "2024-08-17T01:52:42.481325Z"
    }
   },
   "cell_type": "code",
   "source": [
    "text = \"i am the lorax i speak for the trees and for some reason they speak vietnamese.\"\n",
    "\n",
    "analyze_text(text)"
   ],
   "id": "5fddea9a2cd6a6ab",
   "outputs": [
    {
     "name": "stdout",
     "output_type": "stream",
     "text": [
      "Text:  i am the lorax i speak for the trees and for some reason they speak vietnamese.\n",
      "Sentiment: POSITIVE, Score: 0.8815779089927673\n"
     ]
    },
    {
     "data": {
      "text/plain": [
       "  0%|          | 0/420 [00:00<?, ?it/s]"
      ],
      "application/vnd.jupyter.widget-view+json": {
       "version_major": 2,
       "version_minor": 0,
       "model_id": "0255e6c4b497442cbfbfdac369492d52"
      }
     },
     "metadata": {},
     "output_type": "display_data"
    },
    {
     "name": "stderr",
     "output_type": "stream",
     "text": [
      "PartitionExplainer explainer: 2it [01:45, 105.34s/it]              \n"
     ]
    },
    {
     "data": {
      "text/plain": [
       "<IPython.core.display.HTML object>"
      ],
      "text/html": [
       "<svg width=\"100%\" height=\"80px\"><line x1=\"0\" y1=\"33\" x2=\"100%\" y2=\"33\" style=\"stroke:rgb(150,150,150);stroke-width:1\" /><line x1=\"50.768040023899935%\" y1=\"33\" x2=\"50.768040023899935%\" y2=\"37\" style=\"stroke:rgb(150,150,150);stroke-width:1\" /><text x=\"50.768040023899935%\" y=\"27\" font-size=\"12px\" fill=\"rgb(120,120,120)\" dominant-baseline=\"bottom\" text-anchor=\"middle\">0.048</text><line x1=\"36.98592447398143%\" y1=\"33\" x2=\"36.98592447398143%\" y2=\"37\" style=\"stroke:rgb(150,150,150);stroke-width:1\" /><text x=\"36.98592447398143%\" y=\"27\" font-size=\"12px\" fill=\"rgb(120,120,120)\" dominant-baseline=\"bottom\" text-anchor=\"middle\">0.045</text><line x1=\"23.20380892406296%\" y1=\"33\" x2=\"23.20380892406296%\" y2=\"37\" style=\"stroke:rgb(150,150,150);stroke-width:1\" /><text x=\"23.20380892406296%\" y=\"27\" font-size=\"12px\" fill=\"rgb(120,120,120)\" dominant-baseline=\"bottom\" text-anchor=\"middle\">0.042</text><line x1=\"9.421693374144457%\" y1=\"33\" x2=\"9.421693374144457%\" y2=\"37\" style=\"stroke:rgb(150,150,150);stroke-width:1\" /><text x=\"9.421693374144457%\" y=\"27\" font-size=\"12px\" fill=\"rgb(120,120,120)\" dominant-baseline=\"bottom\" text-anchor=\"middle\">0.039</text><line x1=\"64.55015557381843%\" y1=\"33\" x2=\"64.55015557381843%\" y2=\"37\" style=\"stroke:rgb(150,150,150);stroke-width:1\" /><text x=\"64.55015557381843%\" y=\"27\" font-size=\"12px\" fill=\"rgb(120,120,120)\" dominant-baseline=\"bottom\" text-anchor=\"middle\">0.051</text><line x1=\"78.3322711237369%\" y1=\"33\" x2=\"78.3322711237369%\" y2=\"37\" style=\"stroke:rgb(150,150,150);stroke-width:1\" /><text x=\"78.3322711237369%\" y=\"27\" font-size=\"12px\" fill=\"rgb(120,120,120)\" dominant-baseline=\"bottom\" text-anchor=\"middle\">0.054</text><line x1=\"92.11438667365542%\" y1=\"33\" x2=\"92.11438667365542%\" y2=\"37\" style=\"stroke:rgb(150,150,150);stroke-width:1\" /><text x=\"92.11438667365542%\" y=\"27\" font-size=\"12px\" fill=\"rgb(120,120,120)\" dominant-baseline=\"bottom\" text-anchor=\"middle\">0.057</text><line x1=\"91.14680540576605%\" y1=\"33\" x2=\"91.14680540576605%\" y2=\"37\" style=\"stroke:rgb(150,150,150);stroke-width:1\" /><text x=\"91.14680540576605%\" y=\"27\" font-size=\"13px\" style=\"stroke:#ffffff;stroke-width:8px;\" fill=\"rgb(255,255,255)\" dominant-baseline=\"bottom\" text-anchor=\"middle\">0.0567894</text><text x=\"91.14680540576605%\" y=\"27\" font-size=\"12px\" fill=\"rgb(120,120,120)\" dominant-baseline=\"bottom\" text-anchor=\"middle\">0.0567894</text><text x=\"91.14680540576605%\" y=\"10\" font-size=\"12px\" fill=\"rgb(120,120,120)\" dominant-baseline=\"bottom\" text-anchor=\"middle\">base value</text><line x1=\"8.853148653848784%\" y1=\"33\" x2=\"8.853148653848784%\" y2=\"37\" style=\"stroke:rgb(150,150,150);stroke-width:1\" /><text x=\"8.853148653848784%\" y=\"27\" font-size=\"13px\" style=\"stroke:#ffffff;stroke-width:8px;\" font-weight=\"bold\" fill=\"rgb(255,255,255)\" dominant-baseline=\"bottom\" text-anchor=\"middle\">0.0388762</text><text x=\"8.853148653848784%\" y=\"27\" font-size=\"13px\" font-weight=\"bold\" fill=\"rgb(0,0,0)\" dominant-baseline=\"bottom\" text-anchor=\"middle\">0.0388762</text><text x=\"8.853148653848784%\" y=\"10\" font-size=\"12px\" fill=\"rgb(120,120,120)\" dominant-baseline=\"bottom\" text-anchor=\"middle\">f<tspan baseline-shift=\"sub\" font-size=\"8px\"></tspan>(inputs)</text><rect x=\"8.333329504967903%\" width=\"0.5198191488808827%\" y=\"40\" height=\"18\" style=\"fill:rgb(255.0, 0.0, 81.08083606031792); stroke-width:0; stroke:rgb(0,0,0)\" /><line x1=\"8.33333806203146%\" x2=\"8.853148653848784%\" y1=\"60\" y2=\"60\" id=\"_fb_jsgeseoazpthxljpsuwj_ind_11\" style=\"stroke:rgb(255.0, 0.0, 81.08083606031792);stroke-width:2; opacity: 0\"/><text x=\"8.593243357940121%\" y=\"71\" font-size=\"12px\" id=\"_fs_jsgeseoazpthxljpsuwj_ind_11\" fill=\"rgb(255.0, 0.0, 81.08083606031792)\" style=\"opacity: 0\" dominant-baseline=\"middle\" text-anchor=\"middle\">0.0</text><svg x=\"8.33333806203146%\" y=\"40\" height=\"20\" width=\"0.5198105918173237%\">  <svg x=\"0\" y=\"0\" width=\"100%\" height=\"100%\">    <text x=\"50%\" y=\"9\" font-size=\"12px\" fill=\"rgb(255,255,255)\" dominant-baseline=\"middle\" text-anchor=\"middle\">and</text>  </svg></svg><line x1=\"8.333329504967903%\" x2=\"8.33333806203146%\" y1=\"60\" y2=\"60\" id=\"_fb_jsgeseoazpthxljpsuwj_ind_19\" style=\"stroke:rgb(255.0, 0.0, 81.08083606031792);stroke-width:2; opacity: 0\"/><text x=\"8.333333783499683%\" y=\"71\" font-size=\"12px\" id=\"_fs_jsgeseoazpthxljpsuwj_ind_19\" fill=\"rgb(255.0, 0.0, 81.08083606031792)\" style=\"opacity: 0\" dominant-baseline=\"middle\" text-anchor=\"middle\">0.0</text><svg x=\"8.333329504967903%\" y=\"40\" height=\"20\" width=\"8.55706355729069e-06%\">  <svg x=\"0\" y=\"0\" width=\"100%\" height=\"100%\">    <text x=\"50%\" y=\"9\" font-size=\"12px\" fill=\"rgb(255,255,255)\" dominant-baseline=\"middle\" text-anchor=\"middle\"></text>  </svg></svg><g transform=\"translate(0,0)\">  <svg x=\"8.33333806203146%\" y=\"40\" height=\"18\" overflow=\"visible\" width=\"30\">    <path d=\"M 0 -9 l 6 18 L 0 25\" fill=\"none\" style=\"stroke:rgb(255.0, 0.0, 81.08083606031792);stroke-width:2\" />  </svg></g><g transform=\"translate(2,0)\">  <svg x=\"8.33333806203146%\" y=\"40\" height=\"18\" overflow=\"visible\" width=\"30\">    <path d=\"M 0 -9 l 6 18 L 0 25\" fill=\"none\" style=\"stroke:rgb(255.0, 0.0, 81.08083606031792);stroke-width:2\" />  </svg></g><g transform=\"translate(4,0)\">  <svg x=\"8.33333806203146%\" y=\"40\" height=\"18\" overflow=\"visible\" width=\"30\">    <path d=\"M 0 -9 l 6 18 L 0 25\" fill=\"none\" style=\"stroke:rgb(255.0, 0.0, 81.08083606031792);stroke-width:2\" />  </svg></g><g transform=\"translate(6,0)\">  <svg x=\"8.33333806203146%\" y=\"40\" height=\"18\" overflow=\"visible\" width=\"30\">    <path d=\"M 0 -9 l 6 18 L 0 25\" fill=\"none\" style=\"stroke:rgb(255.0, 0.0, 81.08083606031792);stroke-width:2\" />  </svg></g><g transform=\"translate(-8,0)\">  <svg x=\"8.33333806203146%\" y=\"40\" height=\"18\" overflow=\"visible\" width=\"30\">    <path d=\"M 0 -9 l 6 18 L 0 25\" fill=\"none\" style=\"stroke:rgb(255.0, 0.0, 81.08083606031792);stroke-width:2\" />  </svg></g><g transform=\"translate(-6,0)\">  <svg x=\"8.33333806203146%\" y=\"40\" height=\"18\" overflow=\"visible\" width=\"30\">    <path d=\"M 0 -9 l 6 18 L 0 25\" fill=\"none\" style=\"stroke:rgb(255.0, 0.0, 81.08083606031792);stroke-width:2\" />  </svg></g><g transform=\"translate(-4,0)\">  <svg x=\"8.33333806203146%\" y=\"40\" height=\"18\" overflow=\"visible\" width=\"30\">    <path d=\"M 0 -9 l 6 18 L 0 25\" fill=\"none\" style=\"stroke:rgb(255.0, 0.0, 81.08083606031792);stroke-width:2\" />  </svg></g><g transform=\"translate(-2,0)\">  <svg x=\"8.33333806203146%\" y=\"40\" height=\"18\" overflow=\"visible\" width=\"30\">    <path d=\"M 0 -9 l 6 18 L 0 25\" fill=\"none\" style=\"stroke:rgb(255.0, 0.0, 81.08083606031792);stroke-width:2\" />  </svg></g><rect transform=\"translate(-8,0)\" x=\"8.853148653848784%\" y=\"40\" width=\"8\" height=\"18\" style=\"fill:rgb(255.0, 0.0, 81.08083606031792)\"/><g transform=\"translate(-11.5,0)\">  <svg x=\"8.333329504967903%\" y=\"40\" height=\"18\" overflow=\"visible\" width=\"30\">    <path d=\"M 10 -9 l 6 18 L 10 25 L 0 25 L 0 -9\" fill=\"#ffffff\" style=\"stroke:rgb(255,255,255);stroke-width:2\" />  </svg></g><g transform=\"translate(-1.5,0)\">  <svg x=\"8.853148653848784%\" y=\"40\" height=\"18\" overflow=\"visible\" width=\"30\">    <path d=\"M 0 -9 l 6 18 L 0 25\" fill=\"none\" style=\"stroke:rgb(255, 195, 213);stroke-width:2\" />  </svg></g><rect x=\"8.33333806203146%\" y=\"40\" height=\"20\" width=\"0.5198105918173237%\"      onmouseover=\"document.getElementById('_tp_jsgeseoazpthxljpsuwj_ind_11').style.textDecoration = 'underline';document.getElementById('_fs_jsgeseoazpthxljpsuwj_ind_11').style.opacity = 1;document.getElementById('_fb_jsgeseoazpthxljpsuwj_ind_11').style.opacity = 1;\"      onmouseout=\"document.getElementById('_tp_jsgeseoazpthxljpsuwj_ind_11').style.textDecoration = 'none';document.getElementById('_fs_jsgeseoazpthxljpsuwj_ind_11').style.opacity = 0;document.getElementById('_fb_jsgeseoazpthxljpsuwj_ind_11').style.opacity = 0;\" style=\"fill:rgb(0,0,0,0)\" /><rect x=\"8.333329504967903%\" y=\"40\" height=\"20\" width=\"8.55706355729069e-06%\"      onmouseover=\"document.getElementById('_tp_jsgeseoazpthxljpsuwj_ind_19').style.textDecoration = 'underline';document.getElementById('_fs_jsgeseoazpthxljpsuwj_ind_19').style.opacity = 1;document.getElementById('_fb_jsgeseoazpthxljpsuwj_ind_19').style.opacity = 1;\"      onmouseout=\"document.getElementById('_tp_jsgeseoazpthxljpsuwj_ind_19').style.textDecoration = 'none';document.getElementById('_fs_jsgeseoazpthxljpsuwj_ind_19').style.opacity = 0;document.getElementById('_fb_jsgeseoazpthxljpsuwj_ind_19').style.opacity = 0;\" style=\"fill:rgb(0,0,0,0)\" /><rect x=\"8.853148653848784%\" width=\"82.81347590079814%\" y=\"40\" height=\"18\" style=\"fill:rgb(0.0, 138.56128015770727, 250.76166088685727); stroke-width:0; stroke:rgb(0,0,0)\" /><line x1=\"8.853148653848784%\" x2=\"16.29198905166426%\" y1=\"60\" y2=\"60\" id=\"_fb_jsgeseoazpthxljpsuwj_ind_18\" style=\"stroke:rgb(0.0, 138.56128015770727, 250.76166088685727);stroke-width:2; opacity: 0\"/><text x=\"12.572568852756522%\" y=\"71\" font-size=\"12px\" fill=\"rgb(0.0, 138.56128015770727, 250.76166088685727)\" id=\"_fs_jsgeseoazpthxljpsuwj_ind_18\" style=\"opacity: 0\" dominant-baseline=\"middle\" text-anchor=\"middle\">-0.002</text><svg x=\"8.853148653848784%\" y=\"40\" height=\"20\" width=\"7.438840397815476%\">  <svg x=\"0\" y=\"0\" width=\"100%\" height=\"100%\">    <text x=\"50%\" y=\"9\" font-size=\"12px\" fill=\"rgb(255,255,255)\" dominant-baseline=\"middle\" text-anchor=\"middle\">.</text>  </svg></svg><line x1=\"16.29198905166426%\" x2=\"23.675988432471023%\" y1=\"60\" y2=\"60\" id=\"_fb_jsgeseoazpthxljpsuwj_ind_3\" style=\"stroke:rgb(0.0, 138.56128015770727, 250.76166088685727);stroke-width:2; opacity: 0\"/><text x=\"19.98398874206764%\" y=\"71\" font-size=\"12px\" fill=\"rgb(0.0, 138.56128015770727, 250.76166088685727)\" id=\"_fs_jsgeseoazpthxljpsuwj_ind_3\" style=\"opacity: 0\" dominant-baseline=\"middle\" text-anchor=\"middle\">-0.002</text><svg x=\"16.29198905166426%\" y=\"40\" height=\"20\" width=\"7.383999380806763%\">  <svg x=\"0\" y=\"0\" width=\"100%\" height=\"100%\">    <text x=\"50%\" y=\"9\" font-size=\"12px\" fill=\"rgb(255,255,255)\" dominant-baseline=\"middle\" text-anchor=\"middle\">lo</text>  </svg></svg><line x1=\"23.675988432471023%\" x2=\"30.94397488926832%\" y1=\"60\" y2=\"60\" id=\"_fb_jsgeseoazpthxljpsuwj_ind_4\" style=\"stroke:rgb(0.0, 138.56128015770727, 250.76166088685727);stroke-width:2; opacity: 0\"/><text x=\"27.30998166086967%\" y=\"71\" font-size=\"12px\" fill=\"rgb(0.0, 138.56128015770727, 250.76166088685727)\" id=\"_fs_jsgeseoazpthxljpsuwj_ind_4\" style=\"opacity: 0\" dominant-baseline=\"middle\" text-anchor=\"middle\">-0.002</text><svg x=\"23.675988432471023%\" y=\"40\" height=\"20\" width=\"7.267986456797296%\">  <svg x=\"0\" y=\"0\" width=\"100%\" height=\"100%\">    <text x=\"50%\" y=\"9\" font-size=\"12px\" fill=\"rgb(255,255,255)\" dominant-baseline=\"middle\" text-anchor=\"middle\">ra</text>  </svg></svg><line x1=\"30.94397488926832%\" x2=\"37.071701473849465%\" y1=\"60\" y2=\"60\" id=\"_fb_jsgeseoazpthxljpsuwj_ind_14\" style=\"stroke:rgb(0.0, 138.56128015770727, 250.76166088685727);stroke-width:2; opacity: 0\"/><text x=\"34.007838181558895%\" y=\"71\" font-size=\"12px\" fill=\"rgb(0.0, 138.56128015770727, 250.76166088685727)\" id=\"_fs_jsgeseoazpthxljpsuwj_ind_14\" style=\"opacity: 0\" dominant-baseline=\"middle\" text-anchor=\"middle\">-0.001</text><svg x=\"30.94397488926832%\" y=\"40\" height=\"20\" width=\"6.127726584581147%\">  <svg x=\"0\" y=\"0\" width=\"100%\" height=\"100%\">    <text x=\"50%\" y=\"9\" font-size=\"12px\" fill=\"rgb(255,255,255)\" dominant-baseline=\"middle\" text-anchor=\"middle\">reason</text>  </svg></svg><line x1=\"37.071701473849465%\" x2=\"42.77377431325342%\" y1=\"60\" y2=\"60\" id=\"_fb_jsgeseoazpthxljpsuwj_ind_5\" style=\"stroke:rgb(0.0, 138.56128015770727, 250.76166088685727);stroke-width:2; opacity: 0\"/><text x=\"39.92273789355144%\" y=\"71\" font-size=\"12px\" fill=\"rgb(0.0, 138.56128015770727, 250.76166088685727)\" id=\"_fs_jsgeseoazpthxljpsuwj_ind_5\" style=\"opacity: 0\" dominant-baseline=\"middle\" text-anchor=\"middle\">-0.001</text><svg x=\"37.071701473849465%\" y=\"40\" height=\"20\" width=\"5.702072839403954%\">  <svg x=\"0\" y=\"0\" width=\"100%\" height=\"100%\">    <text x=\"50%\" y=\"9\" font-size=\"12px\" fill=\"rgb(255,255,255)\" dominant-baseline=\"middle\" text-anchor=\"middle\">x</text>  </svg></svg><line x1=\"42.77377431325342%\" x2=\"48.3801682183368%\" y1=\"60\" y2=\"60\" id=\"_fb_jsgeseoazpthxljpsuwj_ind_15\" style=\"stroke:rgb(0.0, 138.56128015770727, 250.76166088685727);stroke-width:2; opacity: 0\"/><text x=\"45.57697126579511%\" y=\"71\" font-size=\"12px\" fill=\"rgb(0.0, 138.56128015770727, 250.76166088685727)\" id=\"_fs_jsgeseoazpthxljpsuwj_ind_15\" style=\"opacity: 0\" dominant-baseline=\"middle\" text-anchor=\"middle\">-0.001</text><svg x=\"42.77377431325342%\" y=\"40\" height=\"20\" width=\"5.6063939050833795%\">  <svg x=\"0\" y=\"0\" width=\"100%\" height=\"100%\">    <text x=\"50%\" y=\"9\" font-size=\"12px\" fill=\"rgb(255,255,255)\" dominant-baseline=\"middle\" text-anchor=\"middle\">they</text>  </svg></svg><line x1=\"48.3801682183368%\" x2=\"53.79205685983893%\" y1=\"60\" y2=\"60\" id=\"_fb_jsgeseoazpthxljpsuwj_ind_13\" style=\"stroke:rgb(0.0, 138.56128015770727, 250.76166088685727);stroke-width:2; opacity: 0\"/><text x=\"51.086112539087864%\" y=\"71\" font-size=\"12px\" fill=\"rgb(0.0, 138.56128015770727, 250.76166088685727)\" id=\"_fs_jsgeseoazpthxljpsuwj_ind_13\" style=\"opacity: 0\" dominant-baseline=\"middle\" text-anchor=\"middle\">-0.001</text><svg x=\"48.3801682183368%\" y=\"40\" height=\"20\" width=\"5.411888641502131%\">  <svg x=\"0\" y=\"0\" width=\"100%\" height=\"100%\">    <text x=\"50%\" y=\"9\" font-size=\"12px\" fill=\"rgb(255,255,255)\" dominant-baseline=\"middle\" text-anchor=\"middle\">some</text>  </svg></svg><line x1=\"53.79205685983893%\" x2=\"58.88146828261103%\" y1=\"60\" y2=\"60\" id=\"_fb_jsgeseoazpthxljpsuwj_ind_12\" style=\"stroke:rgb(0.0, 138.56128015770727, 250.76166088685727);stroke-width:2; opacity: 0\"/><text x=\"56.33676257122498%\" y=\"71\" font-size=\"12px\" fill=\"rgb(0.0, 138.56128015770727, 250.76166088685727)\" id=\"_fs_jsgeseoazpthxljpsuwj_ind_12\" style=\"opacity: 0\" dominant-baseline=\"middle\" text-anchor=\"middle\">-0.001</text><svg x=\"53.79205685983893%\" y=\"40\" height=\"20\" width=\"5.089411422772102%\">  <svg x=\"0\" y=\"0\" width=\"100%\" height=\"100%\">    <text x=\"50%\" y=\"9\" font-size=\"12px\" fill=\"rgb(255,255,255)\" dominant-baseline=\"middle\" text-anchor=\"middle\">for</text>  </svg></svg><line x1=\"58.88146828261103%\" x2=\"63.473251161575064%\" y1=\"60\" y2=\"60\" id=\"_fb_jsgeseoazpthxljpsuwj_ind_10\" style=\"stroke:rgb(0.0, 138.56128015770727, 250.76166088685727);stroke-width:2; opacity: 0\"/><text x=\"61.177359722093044%\" y=\"71\" font-size=\"12px\" fill=\"rgb(0.0, 138.56128015770727, 250.76166088685727)\" id=\"_fs_jsgeseoazpthxljpsuwj_ind_10\" style=\"opacity: 0\" dominant-baseline=\"middle\" text-anchor=\"middle\">-0.001</text><svg x=\"58.88146828261103%\" y=\"40\" height=\"20\" width=\"4.5917828789640325%\">  <svg x=\"0\" y=\"0\" width=\"100%\" height=\"100%\">    <text x=\"50%\" y=\"9\" font-size=\"12px\" fill=\"rgb(255,255,255)\" dominant-baseline=\"middle\" text-anchor=\"middle\">trees</text>  </svg></svg><line x1=\"63.473251161575064%\" x2=\"67.87734474549036%\" y1=\"60\" y2=\"60\" id=\"_fb_jsgeseoazpthxljpsuwj_ind_2\" style=\"stroke:rgb(0.0, 138.56128015770727, 250.76166088685727);stroke-width:2; opacity: 0\"/><text x=\"65.67529795353272%\" y=\"71\" font-size=\"12px\" fill=\"rgb(0.0, 138.56128015770727, 250.76166088685727)\" id=\"_fs_jsgeseoazpthxljpsuwj_ind_2\" style=\"opacity: 0\" dominant-baseline=\"middle\" text-anchor=\"middle\">-0.001</text><svg x=\"63.473251161575064%\" y=\"40\" height=\"20\" width=\"4.404093583915298%\">  <svg x=\"0\" y=\"0\" width=\"100%\" height=\"100%\">    <text x=\"50%\" y=\"9\" font-size=\"12px\" fill=\"rgb(255,255,255)\" dominant-baseline=\"middle\" text-anchor=\"middle\">the</text>  </svg></svg><line x1=\"67.87734474549036%\" x2=\"72.25594255853342%\" y1=\"60\" y2=\"60\" id=\"_fb_jsgeseoazpthxljpsuwj_ind_7\" style=\"stroke:rgb(0.0, 138.56128015770727, 250.76166088685727);stroke-width:2; opacity: 0\"/><text x=\"70.06664365201189%\" y=\"71\" font-size=\"12px\" fill=\"rgb(0.0, 138.56128015770727, 250.76166088685727)\" id=\"_fs_jsgeseoazpthxljpsuwj_ind_7\" style=\"opacity: 0\" dominant-baseline=\"middle\" text-anchor=\"middle\">-0.001</text><svg x=\"67.87734474549036%\" y=\"40\" height=\"20\" width=\"4.378597813043058%\">  <svg x=\"0\" y=\"0\" width=\"100%\" height=\"100%\">    <text x=\"50%\" y=\"9\" font-size=\"12px\" fill=\"rgb(255,255,255)\" dominant-baseline=\"middle\" text-anchor=\"middle\">speak</text>  </svg></svg><line x1=\"72.25594255853342%\" x2=\"76.12699312147127%\" y1=\"60\" y2=\"60\" id=\"_fb_jsgeseoazpthxljpsuwj_ind_1\" style=\"stroke:rgb(0.0, 138.56128015770727, 250.76166088685727);stroke-width:2; opacity: 0\"/><text x=\"74.19146784000235%\" y=\"71\" font-size=\"12px\" fill=\"rgb(0.0, 138.56128015770727, 250.76166088685727)\" id=\"_fs_jsgeseoazpthxljpsuwj_ind_1\" style=\"opacity: 0\" dominant-baseline=\"middle\" text-anchor=\"middle\">-0.001</text><svg x=\"72.25594255853342%\" y=\"40\" height=\"20\" width=\"3.871050562937853%\">  <svg x=\"0\" y=\"0\" width=\"100%\" height=\"100%\">    <text x=\"50%\" y=\"9\" font-size=\"12px\" fill=\"rgb(255,255,255)\" dominant-baseline=\"middle\" text-anchor=\"middle\">am</text>  </svg></svg><line x1=\"76.12699312147127%\" x2=\"79.73194360930066%\" y1=\"60\" y2=\"60\" id=\"_fb_jsgeseoazpthxljpsuwj_ind_6\" style=\"stroke:rgb(0.0, 138.56128015770727, 250.76166088685727);stroke-width:2; opacity: 0\"/><text x=\"77.92946836538596%\" y=\"71\" font-size=\"12px\" fill=\"rgb(0.0, 138.56128015770727, 250.76166088685727)\" id=\"_fs_jsgeseoazpthxljpsuwj_ind_6\" style=\"opacity: 0\" dominant-baseline=\"middle\" text-anchor=\"middle\">-0.001</text><svg x=\"76.12699312147127%\" y=\"40\" height=\"20\" width=\"3.6049504878293845%\">  <svg x=\"0\" y=\"0\" width=\"100%\" height=\"100%\">    <text x=\"50%\" y=\"9\" font-size=\"12px\" fill=\"rgb(255,255,255)\" dominant-baseline=\"middle\" text-anchor=\"middle\">i</text>  </svg></svg><line x1=\"79.73194360930066%\" x2=\"82.92644464944671%\" y1=\"60\" y2=\"60\" id=\"_fb_jsgeseoazpthxljpsuwj_ind_17\" style=\"stroke:rgb(0.0, 138.56128015770727, 250.76166088685727);stroke-width:2; opacity: 0\"/><text x=\"81.32919412937369%\" y=\"71\" font-size=\"12px\" fill=\"rgb(0.0, 138.56128015770727, 250.76166088685727)\" id=\"_fs_jsgeseoazpthxljpsuwj_ind_17\" style=\"opacity: 0\" dominant-baseline=\"middle\" text-anchor=\"middle\">-0.001</text><svg x=\"79.73194360930066%\" y=\"40\" height=\"20\" width=\"3.1945010401460507%\">  <svg x=\"0\" y=\"0\" width=\"100%\" height=\"100%\">    <text x=\"50%\" y=\"9\" font-size=\"12px\" fill=\"rgb(255,255,255)\" dominant-baseline=\"middle\" text-anchor=\"middle\">vietnamese</text>  </svg></svg><line x1=\"82.92644464944671%\" x2=\"85.5648050148053%\" y1=\"60\" y2=\"60\" id=\"_fb_jsgeseoazpthxljpsuwj_ind_0\" style=\"stroke:rgb(0.0, 138.56128015770727, 250.76166088685727);stroke-width:2; opacity: 0\"/><text x=\"84.245624832126%\" y=\"71\" font-size=\"12px\" fill=\"rgb(0.0, 138.56128015770727, 250.76166088685727)\" id=\"_fs_jsgeseoazpthxljpsuwj_ind_0\" style=\"opacity: 0\" dominant-baseline=\"middle\" text-anchor=\"middle\">-0.001</text><svg x=\"82.92644464944671%\" y=\"40\" height=\"20\" width=\"2.6383603653585936%\">  <svg x=\"0\" y=\"0\" width=\"100%\" height=\"100%\">    <text x=\"50%\" y=\"9\" font-size=\"12px\" fill=\"rgb(255,255,255)\" dominant-baseline=\"middle\" text-anchor=\"middle\">i</text>  </svg></svg><line x1=\"85.5648050148053%\" x2=\"87.78119277676623%\" y1=\"60\" y2=\"60\" id=\"_fb_jsgeseoazpthxljpsuwj_ind_8\" style=\"stroke:rgb(0.0, 138.56128015770727, 250.76166088685727);stroke-width:2; opacity: 0\"/><text x=\"86.67299889578577%\" y=\"71\" font-size=\"12px\" fill=\"rgb(0.0, 138.56128015770727, 250.76166088685727)\" id=\"_fs_jsgeseoazpthxljpsuwj_ind_8\" style=\"opacity: 0\" dominant-baseline=\"middle\" text-anchor=\"middle\">-0.0</text><svg x=\"85.5648050148053%\" y=\"40\" height=\"20\" width=\"2.216387761960931%\">  <svg x=\"0\" y=\"0\" width=\"100%\" height=\"100%\">    <text x=\"50%\" y=\"9\" font-size=\"12px\" fill=\"rgb(255,255,255)\" dominant-baseline=\"middle\" text-anchor=\"middle\">for</text>  </svg></svg><line x1=\"87.78119277676623%\" x2=\"89.91228827511706%\" y1=\"60\" y2=\"60\" id=\"_fb_jsgeseoazpthxljpsuwj_ind_16\" style=\"stroke:rgb(0.0, 138.56128015770727, 250.76166088685727);stroke-width:2; opacity: 0\"/><text x=\"88.84674052594164%\" y=\"71\" font-size=\"12px\" fill=\"rgb(0.0, 138.56128015770727, 250.76166088685727)\" id=\"_fs_jsgeseoazpthxljpsuwj_ind_16\" style=\"opacity: 0\" dominant-baseline=\"middle\" text-anchor=\"middle\">-0.0</text><svg x=\"87.78119277676623%\" y=\"40\" height=\"20\" width=\"2.131095498350831%\">  <svg x=\"0\" y=\"0\" width=\"100%\" height=\"100%\">    <text x=\"50%\" y=\"9\" font-size=\"12px\" fill=\"rgb(255,255,255)\" dominant-baseline=\"middle\" text-anchor=\"middle\">speak</text>  </svg></svg><line x1=\"89.91228827511706%\" x2=\"91.66662455464693%\" y1=\"60\" y2=\"60\" id=\"_fb_jsgeseoazpthxljpsuwj_ind_9\" style=\"stroke:rgb(0.0, 138.56128015770727, 250.76166088685727);stroke-width:2; opacity: 0\"/><text x=\"90.789456414882%\" y=\"71\" font-size=\"12px\" fill=\"rgb(0.0, 138.56128015770727, 250.76166088685727)\" id=\"_fs_jsgeseoazpthxljpsuwj_ind_9\" style=\"opacity: 0\" dominant-baseline=\"middle\" text-anchor=\"middle\">-0.0</text><svg x=\"89.91228827511706%\" y=\"40\" height=\"20\" width=\"1.7543362795298663%\">  <svg x=\"0\" y=\"0\" width=\"100%\" height=\"100%\">    <text x=\"50%\" y=\"9\" font-size=\"12px\" fill=\"rgb(255,255,255)\" dominant-baseline=\"middle\" text-anchor=\"middle\">the</text>  </svg></svg><g transform=\"translate(-8,0)\">  <svg x=\"16.29198905166426%\" y=\"40\" height=\"18\" overflow=\"visible\" width=\"30\">    <path d=\"M 8 -9 l -6 18 L 8 25\" fill=\"none\" style=\"stroke:rgb(0.0, 138.56128015770727, 250.76166088685727);stroke-width:2\" />  </svg></g><g transform=\"translate(-10,0)\">  <svg x=\"16.29198905166426%\" y=\"40\" height=\"18\" overflow=\"visible\" width=\"30\">    <path d=\"M 8 -9 l -6 18 L 8 25\" fill=\"none\" style=\"stroke:rgb(0.0, 138.56128015770727, 250.76166088685727);stroke-width:2\" />  </svg></g><g transform=\"translate(-12,0)\">  <svg x=\"16.29198905166426%\" y=\"40\" height=\"18\" overflow=\"visible\" width=\"30\">    <path d=\"M 8 -9 l -6 18 L 8 25\" fill=\"none\" style=\"stroke:rgb(0.0, 138.56128015770727, 250.76166088685727);stroke-width:2\" />  </svg></g><g transform=\"translate(-14,0)\">  <svg x=\"16.29198905166426%\" y=\"40\" height=\"18\" overflow=\"visible\" width=\"30\">    <path d=\"M 8 -9 l -6 18 L 8 25\" fill=\"none\" style=\"stroke:rgb(0.0, 138.56128015770727, 250.76166088685727);stroke-width:2\" />  </svg></g><g transform=\"translate(2,0)\">  <svg x=\"16.29198905166426%\" y=\"40\" height=\"18\" overflow=\"visible\" width=\"30\">    <path d=\"M 8 -9 l -6 18 L 8 25\" fill=\"none\" style=\"stroke:rgb(0.0, 138.56128015770727, 250.76166088685727);stroke-width:2\" />  </svg></g><g transform=\"translate(0,0)\">  <svg x=\"16.29198905166426%\" y=\"40\" height=\"18\" overflow=\"visible\" width=\"30\">    <path d=\"M 8 -9 l -6 18 L 8 25\" fill=\"none\" style=\"stroke:rgb(0.0, 138.56128015770727, 250.76166088685727);stroke-width:2\" />  </svg></g><g transform=\"translate(-2,0)\">  <svg x=\"16.29198905166426%\" y=\"40\" height=\"18\" overflow=\"visible\" width=\"30\">    <path d=\"M 8 -9 l -6 18 L 8 25\" fill=\"none\" style=\"stroke:rgb(0.0, 138.56128015770727, 250.76166088685727);stroke-width:2\" />  </svg></g><g transform=\"translate(-4,0)\">  <svg x=\"16.29198905166426%\" y=\"40\" height=\"18\" overflow=\"visible\" width=\"30\">    <path d=\"M 8 -9 l -6 18 L 8 25\" fill=\"none\" style=\"stroke:rgb(0.0, 138.56128015770727, 250.76166088685727);stroke-width:2\" />  </svg></g><g transform=\"translate(-8,0)\">  <svg x=\"23.675988432471023%\" y=\"40\" height=\"18\" overflow=\"visible\" width=\"30\">    <path d=\"M 8 -9 l -6 18 L 8 25\" fill=\"none\" style=\"stroke:rgb(0.0, 138.56128015770727, 250.76166088685727);stroke-width:2\" />  </svg></g><g transform=\"translate(-10,0)\">  <svg x=\"23.675988432471023%\" y=\"40\" height=\"18\" overflow=\"visible\" width=\"30\">    <path d=\"M 8 -9 l -6 18 L 8 25\" fill=\"none\" style=\"stroke:rgb(0.0, 138.56128015770727, 250.76166088685727);stroke-width:2\" />  </svg></g><g transform=\"translate(-12,0)\">  <svg x=\"23.675988432471023%\" y=\"40\" height=\"18\" overflow=\"visible\" width=\"30\">    <path d=\"M 8 -9 l -6 18 L 8 25\" fill=\"none\" style=\"stroke:rgb(0.0, 138.56128015770727, 250.76166088685727);stroke-width:2\" />  </svg></g><g transform=\"translate(-14,0)\">  <svg x=\"23.675988432471023%\" y=\"40\" height=\"18\" overflow=\"visible\" width=\"30\">    <path d=\"M 8 -9 l -6 18 L 8 25\" fill=\"none\" style=\"stroke:rgb(0.0, 138.56128015770727, 250.76166088685727);stroke-width:2\" />  </svg></g><g transform=\"translate(2,0)\">  <svg x=\"23.675988432471023%\" y=\"40\" height=\"18\" overflow=\"visible\" width=\"30\">    <path d=\"M 8 -9 l -6 18 L 8 25\" fill=\"none\" style=\"stroke:rgb(0.0, 138.56128015770727, 250.76166088685727);stroke-width:2\" />  </svg></g><g transform=\"translate(0,0)\">  <svg x=\"23.675988432471023%\" y=\"40\" height=\"18\" overflow=\"visible\" width=\"30\">    <path d=\"M 8 -9 l -6 18 L 8 25\" fill=\"none\" style=\"stroke:rgb(0.0, 138.56128015770727, 250.76166088685727);stroke-width:2\" />  </svg></g><g transform=\"translate(-2,0)\">  <svg x=\"23.675988432471023%\" y=\"40\" height=\"18\" overflow=\"visible\" width=\"30\">    <path d=\"M 8 -9 l -6 18 L 8 25\" fill=\"none\" style=\"stroke:rgb(0.0, 138.56128015770727, 250.76166088685727);stroke-width:2\" />  </svg></g><g transform=\"translate(-4,0)\">  <svg x=\"23.675988432471023%\" y=\"40\" height=\"18\" overflow=\"visible\" width=\"30\">    <path d=\"M 8 -9 l -6 18 L 8 25\" fill=\"none\" style=\"stroke:rgb(0.0, 138.56128015770727, 250.76166088685727);stroke-width:2\" />  </svg></g><g transform=\"translate(-8,0)\">  <svg x=\"30.94397488926832%\" y=\"40\" height=\"18\" overflow=\"visible\" width=\"30\">    <path d=\"M 8 -9 l -6 18 L 8 25\" fill=\"none\" style=\"stroke:rgb(0.0, 138.56128015770727, 250.76166088685727);stroke-width:2\" />  </svg></g><g transform=\"translate(-10,0)\">  <svg x=\"30.94397488926832%\" y=\"40\" height=\"18\" overflow=\"visible\" width=\"30\">    <path d=\"M 8 -9 l -6 18 L 8 25\" fill=\"none\" style=\"stroke:rgb(0.0, 138.56128015770727, 250.76166088685727);stroke-width:2\" />  </svg></g><g transform=\"translate(-12,0)\">  <svg x=\"30.94397488926832%\" y=\"40\" height=\"18\" overflow=\"visible\" width=\"30\">    <path d=\"M 8 -9 l -6 18 L 8 25\" fill=\"none\" style=\"stroke:rgb(0.0, 138.56128015770727, 250.76166088685727);stroke-width:2\" />  </svg></g><g transform=\"translate(-14,0)\">  <svg x=\"30.94397488926832%\" y=\"40\" height=\"18\" overflow=\"visible\" width=\"30\">    <path d=\"M 8 -9 l -6 18 L 8 25\" fill=\"none\" style=\"stroke:rgb(0.0, 138.56128015770727, 250.76166088685727);stroke-width:2\" />  </svg></g><g transform=\"translate(2,0)\">  <svg x=\"30.94397488926832%\" y=\"40\" height=\"18\" overflow=\"visible\" width=\"30\">    <path d=\"M 8 -9 l -6 18 L 8 25\" fill=\"none\" style=\"stroke:rgb(0.0, 138.56128015770727, 250.76166088685727);stroke-width:2\" />  </svg></g><g transform=\"translate(0,0)\">  <svg x=\"30.94397488926832%\" y=\"40\" height=\"18\" overflow=\"visible\" width=\"30\">    <path d=\"M 8 -9 l -6 18 L 8 25\" fill=\"none\" style=\"stroke:rgb(0.0, 138.56128015770727, 250.76166088685727);stroke-width:2\" />  </svg></g><g transform=\"translate(-2,0)\">  <svg x=\"30.94397488926832%\" y=\"40\" height=\"18\" overflow=\"visible\" width=\"30\">    <path d=\"M 8 -9 l -6 18 L 8 25\" fill=\"none\" style=\"stroke:rgb(0.0, 138.56128015770727, 250.76166088685727);stroke-width:2\" />  </svg></g><g transform=\"translate(-4,0)\">  <svg x=\"30.94397488926832%\" y=\"40\" height=\"18\" overflow=\"visible\" width=\"30\">    <path d=\"M 8 -9 l -6 18 L 8 25\" fill=\"none\" style=\"stroke:rgb(0.0, 138.56128015770727, 250.76166088685727);stroke-width:2\" />  </svg></g><g transform=\"translate(-8,0)\">  <svg x=\"37.071701473849465%\" y=\"40\" height=\"18\" overflow=\"visible\" width=\"30\">    <path d=\"M 8 -9 l -6 18 L 8 25\" fill=\"none\" style=\"stroke:rgb(0.0, 138.56128015770727, 250.76166088685727);stroke-width:2\" />  </svg></g><g transform=\"translate(-10,0)\">  <svg x=\"37.071701473849465%\" y=\"40\" height=\"18\" overflow=\"visible\" width=\"30\">    <path d=\"M 8 -9 l -6 18 L 8 25\" fill=\"none\" style=\"stroke:rgb(0.0, 138.56128015770727, 250.76166088685727);stroke-width:2\" />  </svg></g><g transform=\"translate(-12,0)\">  <svg x=\"37.071701473849465%\" y=\"40\" height=\"18\" overflow=\"visible\" width=\"30\">    <path d=\"M 8 -9 l -6 18 L 8 25\" fill=\"none\" style=\"stroke:rgb(0.0, 138.56128015770727, 250.76166088685727);stroke-width:2\" />  </svg></g><g transform=\"translate(-14,0)\">  <svg x=\"37.071701473849465%\" y=\"40\" height=\"18\" overflow=\"visible\" width=\"30\">    <path d=\"M 8 -9 l -6 18 L 8 25\" fill=\"none\" style=\"stroke:rgb(0.0, 138.56128015770727, 250.76166088685727);stroke-width:2\" />  </svg></g><g transform=\"translate(2,0)\">  <svg x=\"37.071701473849465%\" y=\"40\" height=\"18\" overflow=\"visible\" width=\"30\">    <path d=\"M 8 -9 l -6 18 L 8 25\" fill=\"none\" style=\"stroke:rgb(0.0, 138.56128015770727, 250.76166088685727);stroke-width:2\" />  </svg></g><g transform=\"translate(0,0)\">  <svg x=\"37.071701473849465%\" y=\"40\" height=\"18\" overflow=\"visible\" width=\"30\">    <path d=\"M 8 -9 l -6 18 L 8 25\" fill=\"none\" style=\"stroke:rgb(0.0, 138.56128015770727, 250.76166088685727);stroke-width:2\" />  </svg></g><g transform=\"translate(-2,0)\">  <svg x=\"37.071701473849465%\" y=\"40\" height=\"18\" overflow=\"visible\" width=\"30\">    <path d=\"M 8 -9 l -6 18 L 8 25\" fill=\"none\" style=\"stroke:rgb(0.0, 138.56128015770727, 250.76166088685727);stroke-width:2\" />  </svg></g><g transform=\"translate(-4,0)\">  <svg x=\"37.071701473849465%\" y=\"40\" height=\"18\" overflow=\"visible\" width=\"30\">    <path d=\"M 8 -9 l -6 18 L 8 25\" fill=\"none\" style=\"stroke:rgb(0.0, 138.56128015770727, 250.76166088685727);stroke-width:2\" />  </svg></g><g transform=\"translate(-8,0)\">  <svg x=\"42.77377431325342%\" y=\"40\" height=\"18\" overflow=\"visible\" width=\"30\">    <path d=\"M 8 -9 l -6 18 L 8 25\" fill=\"none\" style=\"stroke:rgb(0.0, 138.56128015770727, 250.76166088685727);stroke-width:2\" />  </svg></g><g transform=\"translate(-10,0)\">  <svg x=\"42.77377431325342%\" y=\"40\" height=\"18\" overflow=\"visible\" width=\"30\">    <path d=\"M 8 -9 l -6 18 L 8 25\" fill=\"none\" style=\"stroke:rgb(0.0, 138.56128015770727, 250.76166088685727);stroke-width:2\" />  </svg></g><g transform=\"translate(-12,0)\">  <svg x=\"42.77377431325342%\" y=\"40\" height=\"18\" overflow=\"visible\" width=\"30\">    <path d=\"M 8 -9 l -6 18 L 8 25\" fill=\"none\" style=\"stroke:rgb(0.0, 138.56128015770727, 250.76166088685727);stroke-width:2\" />  </svg></g><g transform=\"translate(-14,0)\">  <svg x=\"42.77377431325342%\" y=\"40\" height=\"18\" overflow=\"visible\" width=\"30\">    <path d=\"M 8 -9 l -6 18 L 8 25\" fill=\"none\" style=\"stroke:rgb(0.0, 138.56128015770727, 250.76166088685727);stroke-width:2\" />  </svg></g><g transform=\"translate(2,0)\">  <svg x=\"42.77377431325342%\" y=\"40\" height=\"18\" overflow=\"visible\" width=\"30\">    <path d=\"M 8 -9 l -6 18 L 8 25\" fill=\"none\" style=\"stroke:rgb(0.0, 138.56128015770727, 250.76166088685727);stroke-width:2\" />  </svg></g><g transform=\"translate(0,0)\">  <svg x=\"42.77377431325342%\" y=\"40\" height=\"18\" overflow=\"visible\" width=\"30\">    <path d=\"M 8 -9 l -6 18 L 8 25\" fill=\"none\" style=\"stroke:rgb(0.0, 138.56128015770727, 250.76166088685727);stroke-width:2\" />  </svg></g><g transform=\"translate(-2,0)\">  <svg x=\"42.77377431325342%\" y=\"40\" height=\"18\" overflow=\"visible\" width=\"30\">    <path d=\"M 8 -9 l -6 18 L 8 25\" fill=\"none\" style=\"stroke:rgb(0.0, 138.56128015770727, 250.76166088685727);stroke-width:2\" />  </svg></g><g transform=\"translate(-4,0)\">  <svg x=\"42.77377431325342%\" y=\"40\" height=\"18\" overflow=\"visible\" width=\"30\">    <path d=\"M 8 -9 l -6 18 L 8 25\" fill=\"none\" style=\"stroke:rgb(0.0, 138.56128015770727, 250.76166088685727);stroke-width:2\" />  </svg></g><g transform=\"translate(-8,0)\">  <svg x=\"48.3801682183368%\" y=\"40\" height=\"18\" overflow=\"visible\" width=\"30\">    <path d=\"M 8 -9 l -6 18 L 8 25\" fill=\"none\" style=\"stroke:rgb(0.0, 138.56128015770727, 250.76166088685727);stroke-width:2\" />  </svg></g><g transform=\"translate(-10,0)\">  <svg x=\"48.3801682183368%\" y=\"40\" height=\"18\" overflow=\"visible\" width=\"30\">    <path d=\"M 8 -9 l -6 18 L 8 25\" fill=\"none\" style=\"stroke:rgb(0.0, 138.56128015770727, 250.76166088685727);stroke-width:2\" />  </svg></g><g transform=\"translate(-12,0)\">  <svg x=\"48.3801682183368%\" y=\"40\" height=\"18\" overflow=\"visible\" width=\"30\">    <path d=\"M 8 -9 l -6 18 L 8 25\" fill=\"none\" style=\"stroke:rgb(0.0, 138.56128015770727, 250.76166088685727);stroke-width:2\" />  </svg></g><g transform=\"translate(-14,0)\">  <svg x=\"48.3801682183368%\" y=\"40\" height=\"18\" overflow=\"visible\" width=\"30\">    <path d=\"M 8 -9 l -6 18 L 8 25\" fill=\"none\" style=\"stroke:rgb(0.0, 138.56128015770727, 250.76166088685727);stroke-width:2\" />  </svg></g><g transform=\"translate(2,0)\">  <svg x=\"48.3801682183368%\" y=\"40\" height=\"18\" overflow=\"visible\" width=\"30\">    <path d=\"M 8 -9 l -6 18 L 8 25\" fill=\"none\" style=\"stroke:rgb(0.0, 138.56128015770727, 250.76166088685727);stroke-width:2\" />  </svg></g><g transform=\"translate(0,0)\">  <svg x=\"48.3801682183368%\" y=\"40\" height=\"18\" overflow=\"visible\" width=\"30\">    <path d=\"M 8 -9 l -6 18 L 8 25\" fill=\"none\" style=\"stroke:rgb(0.0, 138.56128015770727, 250.76166088685727);stroke-width:2\" />  </svg></g><g transform=\"translate(-2,0)\">  <svg x=\"48.3801682183368%\" y=\"40\" height=\"18\" overflow=\"visible\" width=\"30\">    <path d=\"M 8 -9 l -6 18 L 8 25\" fill=\"none\" style=\"stroke:rgb(0.0, 138.56128015770727, 250.76166088685727);stroke-width:2\" />  </svg></g><g transform=\"translate(-4,0)\">  <svg x=\"48.3801682183368%\" y=\"40\" height=\"18\" overflow=\"visible\" width=\"30\">    <path d=\"M 8 -9 l -6 18 L 8 25\" fill=\"none\" style=\"stroke:rgb(0.0, 138.56128015770727, 250.76166088685727);stroke-width:2\" />  </svg></g><g transform=\"translate(-8,0)\">  <svg x=\"53.79205685983893%\" y=\"40\" height=\"18\" overflow=\"visible\" width=\"30\">    <path d=\"M 8 -9 l -6 18 L 8 25\" fill=\"none\" style=\"stroke:rgb(0.0, 138.56128015770727, 250.76166088685727);stroke-width:2\" />  </svg></g><g transform=\"translate(-10,0)\">  <svg x=\"53.79205685983893%\" y=\"40\" height=\"18\" overflow=\"visible\" width=\"30\">    <path d=\"M 8 -9 l -6 18 L 8 25\" fill=\"none\" style=\"stroke:rgb(0.0, 138.56128015770727, 250.76166088685727);stroke-width:2\" />  </svg></g><g transform=\"translate(-12,0)\">  <svg x=\"53.79205685983893%\" y=\"40\" height=\"18\" overflow=\"visible\" width=\"30\">    <path d=\"M 8 -9 l -6 18 L 8 25\" fill=\"none\" style=\"stroke:rgb(0.0, 138.56128015770727, 250.76166088685727);stroke-width:2\" />  </svg></g><g transform=\"translate(-14,0)\">  <svg x=\"53.79205685983893%\" y=\"40\" height=\"18\" overflow=\"visible\" width=\"30\">    <path d=\"M 8 -9 l -6 18 L 8 25\" fill=\"none\" style=\"stroke:rgb(0.0, 138.56128015770727, 250.76166088685727);stroke-width:2\" />  </svg></g><g transform=\"translate(2,0)\">  <svg x=\"53.79205685983893%\" y=\"40\" height=\"18\" overflow=\"visible\" width=\"30\">    <path d=\"M 8 -9 l -6 18 L 8 25\" fill=\"none\" style=\"stroke:rgb(0.0, 138.56128015770727, 250.76166088685727);stroke-width:2\" />  </svg></g><g transform=\"translate(0,0)\">  <svg x=\"53.79205685983893%\" y=\"40\" height=\"18\" overflow=\"visible\" width=\"30\">    <path d=\"M 8 -9 l -6 18 L 8 25\" fill=\"none\" style=\"stroke:rgb(0.0, 138.56128015770727, 250.76166088685727);stroke-width:2\" />  </svg></g><g transform=\"translate(-2,0)\">  <svg x=\"53.79205685983893%\" y=\"40\" height=\"18\" overflow=\"visible\" width=\"30\">    <path d=\"M 8 -9 l -6 18 L 8 25\" fill=\"none\" style=\"stroke:rgb(0.0, 138.56128015770727, 250.76166088685727);stroke-width:2\" />  </svg></g><g transform=\"translate(-4,0)\">  <svg x=\"53.79205685983893%\" y=\"40\" height=\"18\" overflow=\"visible\" width=\"30\">    <path d=\"M 8 -9 l -6 18 L 8 25\" fill=\"none\" style=\"stroke:rgb(0.0, 138.56128015770727, 250.76166088685727);stroke-width:2\" />  </svg></g><g transform=\"translate(-8,0)\">  <svg x=\"58.88146828261103%\" y=\"40\" height=\"18\" overflow=\"visible\" width=\"30\">    <path d=\"M 8 -9 l -6 18 L 8 25\" fill=\"none\" style=\"stroke:rgb(0.0, 138.56128015770727, 250.76166088685727);stroke-width:2\" />  </svg></g><g transform=\"translate(-10,0)\">  <svg x=\"58.88146828261103%\" y=\"40\" height=\"18\" overflow=\"visible\" width=\"30\">    <path d=\"M 8 -9 l -6 18 L 8 25\" fill=\"none\" style=\"stroke:rgb(0.0, 138.56128015770727, 250.76166088685727);stroke-width:2\" />  </svg></g><g transform=\"translate(-12,0)\">  <svg x=\"58.88146828261103%\" y=\"40\" height=\"18\" overflow=\"visible\" width=\"30\">    <path d=\"M 8 -9 l -6 18 L 8 25\" fill=\"none\" style=\"stroke:rgb(0.0, 138.56128015770727, 250.76166088685727);stroke-width:2\" />  </svg></g><g transform=\"translate(-14,0)\">  <svg x=\"58.88146828261103%\" y=\"40\" height=\"18\" overflow=\"visible\" width=\"30\">    <path d=\"M 8 -9 l -6 18 L 8 25\" fill=\"none\" style=\"stroke:rgb(0.0, 138.56128015770727, 250.76166088685727);stroke-width:2\" />  </svg></g><g transform=\"translate(2,0)\">  <svg x=\"58.88146828261103%\" y=\"40\" height=\"18\" overflow=\"visible\" width=\"30\">    <path d=\"M 8 -9 l -6 18 L 8 25\" fill=\"none\" style=\"stroke:rgb(0.0, 138.56128015770727, 250.76166088685727);stroke-width:2\" />  </svg></g><g transform=\"translate(0,0)\">  <svg x=\"58.88146828261103%\" y=\"40\" height=\"18\" overflow=\"visible\" width=\"30\">    <path d=\"M 8 -9 l -6 18 L 8 25\" fill=\"none\" style=\"stroke:rgb(0.0, 138.56128015770727, 250.76166088685727);stroke-width:2\" />  </svg></g><g transform=\"translate(-2,0)\">  <svg x=\"58.88146828261103%\" y=\"40\" height=\"18\" overflow=\"visible\" width=\"30\">    <path d=\"M 8 -9 l -6 18 L 8 25\" fill=\"none\" style=\"stroke:rgb(0.0, 138.56128015770727, 250.76166088685727);stroke-width:2\" />  </svg></g><g transform=\"translate(-4,0)\">  <svg x=\"58.88146828261103%\" y=\"40\" height=\"18\" overflow=\"visible\" width=\"30\">    <path d=\"M 8 -9 l -6 18 L 8 25\" fill=\"none\" style=\"stroke:rgb(0.0, 138.56128015770727, 250.76166088685727);stroke-width:2\" />  </svg></g><g transform=\"translate(-8,0)\">  <svg x=\"63.473251161575064%\" y=\"40\" height=\"18\" overflow=\"visible\" width=\"30\">    <path d=\"M 8 -9 l -6 18 L 8 25\" fill=\"none\" style=\"stroke:rgb(0.0, 138.56128015770727, 250.76166088685727);stroke-width:2\" />  </svg></g><g transform=\"translate(-10,0)\">  <svg x=\"63.473251161575064%\" y=\"40\" height=\"18\" overflow=\"visible\" width=\"30\">    <path d=\"M 8 -9 l -6 18 L 8 25\" fill=\"none\" style=\"stroke:rgb(0.0, 138.56128015770727, 250.76166088685727);stroke-width:2\" />  </svg></g><g transform=\"translate(-12,0)\">  <svg x=\"63.473251161575064%\" y=\"40\" height=\"18\" overflow=\"visible\" width=\"30\">    <path d=\"M 8 -9 l -6 18 L 8 25\" fill=\"none\" style=\"stroke:rgb(0.0, 138.56128015770727, 250.76166088685727);stroke-width:2\" />  </svg></g><g transform=\"translate(-14,0)\">  <svg x=\"63.473251161575064%\" y=\"40\" height=\"18\" overflow=\"visible\" width=\"30\">    <path d=\"M 8 -9 l -6 18 L 8 25\" fill=\"none\" style=\"stroke:rgb(0.0, 138.56128015770727, 250.76166088685727);stroke-width:2\" />  </svg></g><g transform=\"translate(2,0)\">  <svg x=\"63.473251161575064%\" y=\"40\" height=\"18\" overflow=\"visible\" width=\"30\">    <path d=\"M 8 -9 l -6 18 L 8 25\" fill=\"none\" style=\"stroke:rgb(0.0, 138.56128015770727, 250.76166088685727);stroke-width:2\" />  </svg></g><g transform=\"translate(0,0)\">  <svg x=\"63.473251161575064%\" y=\"40\" height=\"18\" overflow=\"visible\" width=\"30\">    <path d=\"M 8 -9 l -6 18 L 8 25\" fill=\"none\" style=\"stroke:rgb(0.0, 138.56128015770727, 250.76166088685727);stroke-width:2\" />  </svg></g><g transform=\"translate(-2,0)\">  <svg x=\"63.473251161575064%\" y=\"40\" height=\"18\" overflow=\"visible\" width=\"30\">    <path d=\"M 8 -9 l -6 18 L 8 25\" fill=\"none\" style=\"stroke:rgb(0.0, 138.56128015770727, 250.76166088685727);stroke-width:2\" />  </svg></g><g transform=\"translate(-4,0)\">  <svg x=\"63.473251161575064%\" y=\"40\" height=\"18\" overflow=\"visible\" width=\"30\">    <path d=\"M 8 -9 l -6 18 L 8 25\" fill=\"none\" style=\"stroke:rgb(0.0, 138.56128015770727, 250.76166088685727);stroke-width:2\" />  </svg></g><g transform=\"translate(-8,0)\">  <svg x=\"67.87734474549036%\" y=\"40\" height=\"18\" overflow=\"visible\" width=\"30\">    <path d=\"M 8 -9 l -6 18 L 8 25\" fill=\"none\" style=\"stroke:rgb(0.0, 138.56128015770727, 250.76166088685727);stroke-width:2\" />  </svg></g><g transform=\"translate(-10,0)\">  <svg x=\"67.87734474549036%\" y=\"40\" height=\"18\" overflow=\"visible\" width=\"30\">    <path d=\"M 8 -9 l -6 18 L 8 25\" fill=\"none\" style=\"stroke:rgb(0.0, 138.56128015770727, 250.76166088685727);stroke-width:2\" />  </svg></g><g transform=\"translate(-12,0)\">  <svg x=\"67.87734474549036%\" y=\"40\" height=\"18\" overflow=\"visible\" width=\"30\">    <path d=\"M 8 -9 l -6 18 L 8 25\" fill=\"none\" style=\"stroke:rgb(0.0, 138.56128015770727, 250.76166088685727);stroke-width:2\" />  </svg></g><g transform=\"translate(-14,0)\">  <svg x=\"67.87734474549036%\" y=\"40\" height=\"18\" overflow=\"visible\" width=\"30\">    <path d=\"M 8 -9 l -6 18 L 8 25\" fill=\"none\" style=\"stroke:rgb(0.0, 138.56128015770727, 250.76166088685727);stroke-width:2\" />  </svg></g><g transform=\"translate(2,0)\">  <svg x=\"67.87734474549036%\" y=\"40\" height=\"18\" overflow=\"visible\" width=\"30\">    <path d=\"M 8 -9 l -6 18 L 8 25\" fill=\"none\" style=\"stroke:rgb(0.0, 138.56128015770727, 250.76166088685727);stroke-width:2\" />  </svg></g><g transform=\"translate(0,0)\">  <svg x=\"67.87734474549036%\" y=\"40\" height=\"18\" overflow=\"visible\" width=\"30\">    <path d=\"M 8 -9 l -6 18 L 8 25\" fill=\"none\" style=\"stroke:rgb(0.0, 138.56128015770727, 250.76166088685727);stroke-width:2\" />  </svg></g><g transform=\"translate(-2,0)\">  <svg x=\"67.87734474549036%\" y=\"40\" height=\"18\" overflow=\"visible\" width=\"30\">    <path d=\"M 8 -9 l -6 18 L 8 25\" fill=\"none\" style=\"stroke:rgb(0.0, 138.56128015770727, 250.76166088685727);stroke-width:2\" />  </svg></g><g transform=\"translate(-4,0)\">  <svg x=\"67.87734474549036%\" y=\"40\" height=\"18\" overflow=\"visible\" width=\"30\">    <path d=\"M 8 -9 l -6 18 L 8 25\" fill=\"none\" style=\"stroke:rgb(0.0, 138.56128015770727, 250.76166088685727);stroke-width:2\" />  </svg></g><g transform=\"translate(-8,0)\">  <svg x=\"72.25594255853342%\" y=\"40\" height=\"18\" overflow=\"visible\" width=\"30\">    <path d=\"M 8 -9 l -6 18 L 8 25\" fill=\"none\" style=\"stroke:rgb(0.0, 138.56128015770727, 250.76166088685727);stroke-width:2\" />  </svg></g><g transform=\"translate(-10,0)\">  <svg x=\"72.25594255853342%\" y=\"40\" height=\"18\" overflow=\"visible\" width=\"30\">    <path d=\"M 8 -9 l -6 18 L 8 25\" fill=\"none\" style=\"stroke:rgb(0.0, 138.56128015770727, 250.76166088685727);stroke-width:2\" />  </svg></g><g transform=\"translate(-12,0)\">  <svg x=\"72.25594255853342%\" y=\"40\" height=\"18\" overflow=\"visible\" width=\"30\">    <path d=\"M 8 -9 l -6 18 L 8 25\" fill=\"none\" style=\"stroke:rgb(0.0, 138.56128015770727, 250.76166088685727);stroke-width:2\" />  </svg></g><g transform=\"translate(-14,0)\">  <svg x=\"72.25594255853342%\" y=\"40\" height=\"18\" overflow=\"visible\" width=\"30\">    <path d=\"M 8 -9 l -6 18 L 8 25\" fill=\"none\" style=\"stroke:rgb(0.0, 138.56128015770727, 250.76166088685727);stroke-width:2\" />  </svg></g><g transform=\"translate(2,0)\">  <svg x=\"72.25594255853342%\" y=\"40\" height=\"18\" overflow=\"visible\" width=\"30\">    <path d=\"M 8 -9 l -6 18 L 8 25\" fill=\"none\" style=\"stroke:rgb(0.0, 138.56128015770727, 250.76166088685727);stroke-width:2\" />  </svg></g><g transform=\"translate(0,0)\">  <svg x=\"72.25594255853342%\" y=\"40\" height=\"18\" overflow=\"visible\" width=\"30\">    <path d=\"M 8 -9 l -6 18 L 8 25\" fill=\"none\" style=\"stroke:rgb(0.0, 138.56128015770727, 250.76166088685727);stroke-width:2\" />  </svg></g><g transform=\"translate(-2,0)\">  <svg x=\"72.25594255853342%\" y=\"40\" height=\"18\" overflow=\"visible\" width=\"30\">    <path d=\"M 8 -9 l -6 18 L 8 25\" fill=\"none\" style=\"stroke:rgb(0.0, 138.56128015770727, 250.76166088685727);stroke-width:2\" />  </svg></g><g transform=\"translate(-4,0)\">  <svg x=\"72.25594255853342%\" y=\"40\" height=\"18\" overflow=\"visible\" width=\"30\">    <path d=\"M 8 -9 l -6 18 L 8 25\" fill=\"none\" style=\"stroke:rgb(0.0, 138.56128015770727, 250.76166088685727);stroke-width:2\" />  </svg></g><g transform=\"translate(-8,0)\">  <svg x=\"76.12699312147127%\" y=\"40\" height=\"18\" overflow=\"visible\" width=\"30\">    <path d=\"M 8 -9 l -6 18 L 8 25\" fill=\"none\" style=\"stroke:rgb(0.0, 138.56128015770727, 250.76166088685727);stroke-width:2\" />  </svg></g><g transform=\"translate(-10,0)\">  <svg x=\"76.12699312147127%\" y=\"40\" height=\"18\" overflow=\"visible\" width=\"30\">    <path d=\"M 8 -9 l -6 18 L 8 25\" fill=\"none\" style=\"stroke:rgb(0.0, 138.56128015770727, 250.76166088685727);stroke-width:2\" />  </svg></g><g transform=\"translate(-12,0)\">  <svg x=\"76.12699312147127%\" y=\"40\" height=\"18\" overflow=\"visible\" width=\"30\">    <path d=\"M 8 -9 l -6 18 L 8 25\" fill=\"none\" style=\"stroke:rgb(0.0, 138.56128015770727, 250.76166088685727);stroke-width:2\" />  </svg></g><g transform=\"translate(-14,0)\">  <svg x=\"76.12699312147127%\" y=\"40\" height=\"18\" overflow=\"visible\" width=\"30\">    <path d=\"M 8 -9 l -6 18 L 8 25\" fill=\"none\" style=\"stroke:rgb(0.0, 138.56128015770727, 250.76166088685727);stroke-width:2\" />  </svg></g><g transform=\"translate(2,0)\">  <svg x=\"76.12699312147127%\" y=\"40\" height=\"18\" overflow=\"visible\" width=\"30\">    <path d=\"M 8 -9 l -6 18 L 8 25\" fill=\"none\" style=\"stroke:rgb(0.0, 138.56128015770727, 250.76166088685727);stroke-width:2\" />  </svg></g><g transform=\"translate(0,0)\">  <svg x=\"76.12699312147127%\" y=\"40\" height=\"18\" overflow=\"visible\" width=\"30\">    <path d=\"M 8 -9 l -6 18 L 8 25\" fill=\"none\" style=\"stroke:rgb(0.0, 138.56128015770727, 250.76166088685727);stroke-width:2\" />  </svg></g><g transform=\"translate(-2,0)\">  <svg x=\"76.12699312147127%\" y=\"40\" height=\"18\" overflow=\"visible\" width=\"30\">    <path d=\"M 8 -9 l -6 18 L 8 25\" fill=\"none\" style=\"stroke:rgb(0.0, 138.56128015770727, 250.76166088685727);stroke-width:2\" />  </svg></g><g transform=\"translate(-4,0)\">  <svg x=\"76.12699312147127%\" y=\"40\" height=\"18\" overflow=\"visible\" width=\"30\">    <path d=\"M 8 -9 l -6 18 L 8 25\" fill=\"none\" style=\"stroke:rgb(0.0, 138.56128015770727, 250.76166088685727);stroke-width:2\" />  </svg></g><g transform=\"translate(-8,0)\">  <svg x=\"79.73194360930066%\" y=\"40\" height=\"18\" overflow=\"visible\" width=\"30\">    <path d=\"M 8 -9 l -6 18 L 8 25\" fill=\"none\" style=\"stroke:rgb(0.0, 138.56128015770727, 250.76166088685727);stroke-width:2\" />  </svg></g><g transform=\"translate(-10,0)\">  <svg x=\"79.73194360930066%\" y=\"40\" height=\"18\" overflow=\"visible\" width=\"30\">    <path d=\"M 8 -9 l -6 18 L 8 25\" fill=\"none\" style=\"stroke:rgb(0.0, 138.56128015770727, 250.76166088685727);stroke-width:2\" />  </svg></g><g transform=\"translate(-12,0)\">  <svg x=\"79.73194360930066%\" y=\"40\" height=\"18\" overflow=\"visible\" width=\"30\">    <path d=\"M 8 -9 l -6 18 L 8 25\" fill=\"none\" style=\"stroke:rgb(0.0, 138.56128015770727, 250.76166088685727);stroke-width:2\" />  </svg></g><g transform=\"translate(-14,0)\">  <svg x=\"79.73194360930066%\" y=\"40\" height=\"18\" overflow=\"visible\" width=\"30\">    <path d=\"M 8 -9 l -6 18 L 8 25\" fill=\"none\" style=\"stroke:rgb(0.0, 138.56128015770727, 250.76166088685727);stroke-width:2\" />  </svg></g><g transform=\"translate(2,0)\">  <svg x=\"79.73194360930066%\" y=\"40\" height=\"18\" overflow=\"visible\" width=\"30\">    <path d=\"M 8 -9 l -6 18 L 8 25\" fill=\"none\" style=\"stroke:rgb(0.0, 138.56128015770727, 250.76166088685727);stroke-width:2\" />  </svg></g><g transform=\"translate(0,0)\">  <svg x=\"79.73194360930066%\" y=\"40\" height=\"18\" overflow=\"visible\" width=\"30\">    <path d=\"M 8 -9 l -6 18 L 8 25\" fill=\"none\" style=\"stroke:rgb(0.0, 138.56128015770727, 250.76166088685727);stroke-width:2\" />  </svg></g><g transform=\"translate(-2,0)\">  <svg x=\"79.73194360930066%\" y=\"40\" height=\"18\" overflow=\"visible\" width=\"30\">    <path d=\"M 8 -9 l -6 18 L 8 25\" fill=\"none\" style=\"stroke:rgb(0.0, 138.56128015770727, 250.76166088685727);stroke-width:2\" />  </svg></g><g transform=\"translate(-4,0)\">  <svg x=\"79.73194360930066%\" y=\"40\" height=\"18\" overflow=\"visible\" width=\"30\">    <path d=\"M 8 -9 l -6 18 L 8 25\" fill=\"none\" style=\"stroke:rgb(0.0, 138.56128015770727, 250.76166088685727);stroke-width:2\" />  </svg></g><g transform=\"translate(-8,0)\">  <svg x=\"82.92644464944671%\" y=\"40\" height=\"18\" overflow=\"visible\" width=\"30\">    <path d=\"M 8 -9 l -6 18 L 8 25\" fill=\"none\" style=\"stroke:rgb(0.0, 138.56128015770727, 250.76166088685727);stroke-width:2\" />  </svg></g><g transform=\"translate(-10,0)\">  <svg x=\"82.92644464944671%\" y=\"40\" height=\"18\" overflow=\"visible\" width=\"30\">    <path d=\"M 8 -9 l -6 18 L 8 25\" fill=\"none\" style=\"stroke:rgb(0.0, 138.56128015770727, 250.76166088685727);stroke-width:2\" />  </svg></g><g transform=\"translate(-12,0)\">  <svg x=\"82.92644464944671%\" y=\"40\" height=\"18\" overflow=\"visible\" width=\"30\">    <path d=\"M 8 -9 l -6 18 L 8 25\" fill=\"none\" style=\"stroke:rgb(0.0, 138.56128015770727, 250.76166088685727);stroke-width:2\" />  </svg></g><g transform=\"translate(-14,0)\">  <svg x=\"82.92644464944671%\" y=\"40\" height=\"18\" overflow=\"visible\" width=\"30\">    <path d=\"M 8 -9 l -6 18 L 8 25\" fill=\"none\" style=\"stroke:rgb(0.0, 138.56128015770727, 250.76166088685727);stroke-width:2\" />  </svg></g><g transform=\"translate(2,0)\">  <svg x=\"82.92644464944671%\" y=\"40\" height=\"18\" overflow=\"visible\" width=\"30\">    <path d=\"M 8 -9 l -6 18 L 8 25\" fill=\"none\" style=\"stroke:rgb(0.0, 138.56128015770727, 250.76166088685727);stroke-width:2\" />  </svg></g><g transform=\"translate(0,0)\">  <svg x=\"82.92644464944671%\" y=\"40\" height=\"18\" overflow=\"visible\" width=\"30\">    <path d=\"M 8 -9 l -6 18 L 8 25\" fill=\"none\" style=\"stroke:rgb(0.0, 138.56128015770727, 250.76166088685727);stroke-width:2\" />  </svg></g><g transform=\"translate(-2,0)\">  <svg x=\"82.92644464944671%\" y=\"40\" height=\"18\" overflow=\"visible\" width=\"30\">    <path d=\"M 8 -9 l -6 18 L 8 25\" fill=\"none\" style=\"stroke:rgb(0.0, 138.56128015770727, 250.76166088685727);stroke-width:2\" />  </svg></g><g transform=\"translate(-4,0)\">  <svg x=\"82.92644464944671%\" y=\"40\" height=\"18\" overflow=\"visible\" width=\"30\">    <path d=\"M 8 -9 l -6 18 L 8 25\" fill=\"none\" style=\"stroke:rgb(0.0, 138.56128015770727, 250.76166088685727);stroke-width:2\" />  </svg></g><g transform=\"translate(-8,0)\">  <svg x=\"85.5648050148053%\" y=\"40\" height=\"18\" overflow=\"visible\" width=\"30\">    <path d=\"M 8 -9 l -6 18 L 8 25\" fill=\"none\" style=\"stroke:rgb(0.0, 138.56128015770727, 250.76166088685727);stroke-width:2\" />  </svg></g><g transform=\"translate(-10,0)\">  <svg x=\"85.5648050148053%\" y=\"40\" height=\"18\" overflow=\"visible\" width=\"30\">    <path d=\"M 8 -9 l -6 18 L 8 25\" fill=\"none\" style=\"stroke:rgb(0.0, 138.56128015770727, 250.76166088685727);stroke-width:2\" />  </svg></g><g transform=\"translate(-12,0)\">  <svg x=\"85.5648050148053%\" y=\"40\" height=\"18\" overflow=\"visible\" width=\"30\">    <path d=\"M 8 -9 l -6 18 L 8 25\" fill=\"none\" style=\"stroke:rgb(0.0, 138.56128015770727, 250.76166088685727);stroke-width:2\" />  </svg></g><g transform=\"translate(-14,0)\">  <svg x=\"85.5648050148053%\" y=\"40\" height=\"18\" overflow=\"visible\" width=\"30\">    <path d=\"M 8 -9 l -6 18 L 8 25\" fill=\"none\" style=\"stroke:rgb(0.0, 138.56128015770727, 250.76166088685727);stroke-width:2\" />  </svg></g><g transform=\"translate(2,0)\">  <svg x=\"85.5648050148053%\" y=\"40\" height=\"18\" overflow=\"visible\" width=\"30\">    <path d=\"M 8 -9 l -6 18 L 8 25\" fill=\"none\" style=\"stroke:rgb(0.0, 138.56128015770727, 250.76166088685727);stroke-width:2\" />  </svg></g><g transform=\"translate(0,0)\">  <svg x=\"85.5648050148053%\" y=\"40\" height=\"18\" overflow=\"visible\" width=\"30\">    <path d=\"M 8 -9 l -6 18 L 8 25\" fill=\"none\" style=\"stroke:rgb(0.0, 138.56128015770727, 250.76166088685727);stroke-width:2\" />  </svg></g><g transform=\"translate(-2,0)\">  <svg x=\"85.5648050148053%\" y=\"40\" height=\"18\" overflow=\"visible\" width=\"30\">    <path d=\"M 8 -9 l -6 18 L 8 25\" fill=\"none\" style=\"stroke:rgb(0.0, 138.56128015770727, 250.76166088685727);stroke-width:2\" />  </svg></g><g transform=\"translate(-4,0)\">  <svg x=\"85.5648050148053%\" y=\"40\" height=\"18\" overflow=\"visible\" width=\"30\">    <path d=\"M 8 -9 l -6 18 L 8 25\" fill=\"none\" style=\"stroke:rgb(0.0, 138.56128015770727, 250.76166088685727);stroke-width:2\" />  </svg></g><g transform=\"translate(-8,0)\">  <svg x=\"87.78119277676623%\" y=\"40\" height=\"18\" overflow=\"visible\" width=\"30\">    <path d=\"M 8 -9 l -6 18 L 8 25\" fill=\"none\" style=\"stroke:rgb(0.0, 138.56128015770727, 250.76166088685727);stroke-width:2\" />  </svg></g><g transform=\"translate(-10,0)\">  <svg x=\"87.78119277676623%\" y=\"40\" height=\"18\" overflow=\"visible\" width=\"30\">    <path d=\"M 8 -9 l -6 18 L 8 25\" fill=\"none\" style=\"stroke:rgb(0.0, 138.56128015770727, 250.76166088685727);stroke-width:2\" />  </svg></g><g transform=\"translate(-12,0)\">  <svg x=\"87.78119277676623%\" y=\"40\" height=\"18\" overflow=\"visible\" width=\"30\">    <path d=\"M 8 -9 l -6 18 L 8 25\" fill=\"none\" style=\"stroke:rgb(0.0, 138.56128015770727, 250.76166088685727);stroke-width:2\" />  </svg></g><g transform=\"translate(-14,0)\">  <svg x=\"87.78119277676623%\" y=\"40\" height=\"18\" overflow=\"visible\" width=\"30\">    <path d=\"M 8 -9 l -6 18 L 8 25\" fill=\"none\" style=\"stroke:rgb(0.0, 138.56128015770727, 250.76166088685727);stroke-width:2\" />  </svg></g><g transform=\"translate(2,0)\">  <svg x=\"87.78119277676623%\" y=\"40\" height=\"18\" overflow=\"visible\" width=\"30\">    <path d=\"M 8 -9 l -6 18 L 8 25\" fill=\"none\" style=\"stroke:rgb(0.0, 138.56128015770727, 250.76166088685727);stroke-width:2\" />  </svg></g><g transform=\"translate(0,0)\">  <svg x=\"87.78119277676623%\" y=\"40\" height=\"18\" overflow=\"visible\" width=\"30\">    <path d=\"M 8 -9 l -6 18 L 8 25\" fill=\"none\" style=\"stroke:rgb(0.0, 138.56128015770727, 250.76166088685727);stroke-width:2\" />  </svg></g><g transform=\"translate(-2,0)\">  <svg x=\"87.78119277676623%\" y=\"40\" height=\"18\" overflow=\"visible\" width=\"30\">    <path d=\"M 8 -9 l -6 18 L 8 25\" fill=\"none\" style=\"stroke:rgb(0.0, 138.56128015770727, 250.76166088685727);stroke-width:2\" />  </svg></g><g transform=\"translate(-4,0)\">  <svg x=\"87.78119277676623%\" y=\"40\" height=\"18\" overflow=\"visible\" width=\"30\">    <path d=\"M 8 -9 l -6 18 L 8 25\" fill=\"none\" style=\"stroke:rgb(0.0, 138.56128015770727, 250.76166088685727);stroke-width:2\" />  </svg></g><g transform=\"translate(-8,0)\">  <svg x=\"89.91228827511706%\" y=\"40\" height=\"18\" overflow=\"visible\" width=\"30\">    <path d=\"M 8 -9 l -6 18 L 8 25\" fill=\"none\" style=\"stroke:rgb(0.0, 138.56128015770727, 250.76166088685727);stroke-width:2\" />  </svg></g><g transform=\"translate(-10,0)\">  <svg x=\"89.91228827511706%\" y=\"40\" height=\"18\" overflow=\"visible\" width=\"30\">    <path d=\"M 8 -9 l -6 18 L 8 25\" fill=\"none\" style=\"stroke:rgb(0.0, 138.56128015770727, 250.76166088685727);stroke-width:2\" />  </svg></g><g transform=\"translate(-12,0)\">  <svg x=\"89.91228827511706%\" y=\"40\" height=\"18\" overflow=\"visible\" width=\"30\">    <path d=\"M 8 -9 l -6 18 L 8 25\" fill=\"none\" style=\"stroke:rgb(0.0, 138.56128015770727, 250.76166088685727);stroke-width:2\" />  </svg></g><g transform=\"translate(-14,0)\">  <svg x=\"89.91228827511706%\" y=\"40\" height=\"18\" overflow=\"visible\" width=\"30\">    <path d=\"M 8 -9 l -6 18 L 8 25\" fill=\"none\" style=\"stroke:rgb(0.0, 138.56128015770727, 250.76166088685727);stroke-width:2\" />  </svg></g><g transform=\"translate(2,0)\">  <svg x=\"89.91228827511706%\" y=\"40\" height=\"18\" overflow=\"visible\" width=\"30\">    <path d=\"M 8 -9 l -6 18 L 8 25\" fill=\"none\" style=\"stroke:rgb(0.0, 138.56128015770727, 250.76166088685727);stroke-width:2\" />  </svg></g><g transform=\"translate(0,0)\">  <svg x=\"89.91228827511706%\" y=\"40\" height=\"18\" overflow=\"visible\" width=\"30\">    <path d=\"M 8 -9 l -6 18 L 8 25\" fill=\"none\" style=\"stroke:rgb(0.0, 138.56128015770727, 250.76166088685727);stroke-width:2\" />  </svg></g><g transform=\"translate(-2,0)\">  <svg x=\"89.91228827511706%\" y=\"40\" height=\"18\" overflow=\"visible\" width=\"30\">    <path d=\"M 8 -9 l -6 18 L 8 25\" fill=\"none\" style=\"stroke:rgb(0.0, 138.56128015770727, 250.76166088685727);stroke-width:2\" />  </svg></g><g transform=\"translate(-4,0)\">  <svg x=\"89.91228827511706%\" y=\"40\" height=\"18\" overflow=\"visible\" width=\"30\">    <path d=\"M 8 -9 l -6 18 L 8 25\" fill=\"none\" style=\"stroke:rgb(0.0, 138.56128015770727, 250.76166088685727);stroke-width:2\" />  </svg></g><rect transform=\"translate(0,0)\" x=\"8.853148653848784%\" y=\"40\" width=\"8\" height=\"18\" style=\"fill:rgb(0.0, 138.56128015770727, 250.76166088685727)\"/><g transform=\"translate(-6.0,0)\">  <svg x=\"91.66662455464693%\" y=\"40\" height=\"18\" overflow=\"visible\" width=\"30\">    <path d=\"M 8 -9 l -6 18 L 8 25 L 20 25 L 20 -9\" fill=\"#ffffff\" style=\"stroke:rgb(255,255,255);stroke-width:2\" />  </svg></g><g transform=\"translate(-6.0,0)\">  <svg x=\"16.29198905166426%\" y=\"40\" height=\"18\" overflow=\"visible\" width=\"30\">    <path d=\"M 8 -9 l -6 18 L 8 25\" fill=\"none\" style=\"stroke:rgb(208, 230, 250);stroke-width:2\" />  </svg></g><rect x=\"8.853148653848784%\" y=\"40\" height=\"20\" width=\"7.438840397815476%\"      onmouseover=\"document.getElementById('_tp_jsgeseoazpthxljpsuwj_ind_18').style.textDecoration = 'underline';document.getElementById('_fs_jsgeseoazpthxljpsuwj_ind_18').style.opacity = 1;document.getElementById('_fb_jsgeseoazpthxljpsuwj_ind_18').style.opacity = 1;\"      onmouseout=\"document.getElementById('_tp_jsgeseoazpthxljpsuwj_ind_18').style.textDecoration = 'none';document.getElementById('_fs_jsgeseoazpthxljpsuwj_ind_18').style.opacity = 0;document.getElementById('_fb_jsgeseoazpthxljpsuwj_ind_18').style.opacity = 0;\" style=\"fill:rgb(0,0,0,0)\" /><g transform=\"translate(-6.0,0)\">  <svg x=\"23.675988432471023%\" y=\"40\" height=\"18\" overflow=\"visible\" width=\"30\">    <path d=\"M 8 -9 l -6 18 L 8 25\" fill=\"none\" style=\"stroke:rgb(208, 230, 250);stroke-width:2\" />  </svg></g><rect x=\"16.29198905166426%\" y=\"40\" height=\"20\" width=\"7.383999380806763%\"      onmouseover=\"document.getElementById('_tp_jsgeseoazpthxljpsuwj_ind_3').style.textDecoration = 'underline';document.getElementById('_fs_jsgeseoazpthxljpsuwj_ind_3').style.opacity = 1;document.getElementById('_fb_jsgeseoazpthxljpsuwj_ind_3').style.opacity = 1;\"      onmouseout=\"document.getElementById('_tp_jsgeseoazpthxljpsuwj_ind_3').style.textDecoration = 'none';document.getElementById('_fs_jsgeseoazpthxljpsuwj_ind_3').style.opacity = 0;document.getElementById('_fb_jsgeseoazpthxljpsuwj_ind_3').style.opacity = 0;\" style=\"fill:rgb(0,0,0,0)\" /><g transform=\"translate(-6.0,0)\">  <svg x=\"30.94397488926832%\" y=\"40\" height=\"18\" overflow=\"visible\" width=\"30\">    <path d=\"M 8 -9 l -6 18 L 8 25\" fill=\"none\" style=\"stroke:rgb(208, 230, 250);stroke-width:2\" />  </svg></g><rect x=\"23.675988432471023%\" y=\"40\" height=\"20\" width=\"7.267986456797296%\"      onmouseover=\"document.getElementById('_tp_jsgeseoazpthxljpsuwj_ind_4').style.textDecoration = 'underline';document.getElementById('_fs_jsgeseoazpthxljpsuwj_ind_4').style.opacity = 1;document.getElementById('_fb_jsgeseoazpthxljpsuwj_ind_4').style.opacity = 1;\"      onmouseout=\"document.getElementById('_tp_jsgeseoazpthxljpsuwj_ind_4').style.textDecoration = 'none';document.getElementById('_fs_jsgeseoazpthxljpsuwj_ind_4').style.opacity = 0;document.getElementById('_fb_jsgeseoazpthxljpsuwj_ind_4').style.opacity = 0;\" style=\"fill:rgb(0,0,0,0)\" /><g transform=\"translate(-6.0,0)\">  <svg x=\"37.071701473849465%\" y=\"40\" height=\"18\" overflow=\"visible\" width=\"30\">    <path d=\"M 8 -9 l -6 18 L 8 25\" fill=\"none\" style=\"stroke:rgb(208, 230, 250);stroke-width:2\" />  </svg></g><rect x=\"30.94397488926832%\" y=\"40\" height=\"20\" width=\"6.127726584581147%\"      onmouseover=\"document.getElementById('_tp_jsgeseoazpthxljpsuwj_ind_14').style.textDecoration = 'underline';document.getElementById('_fs_jsgeseoazpthxljpsuwj_ind_14').style.opacity = 1;document.getElementById('_fb_jsgeseoazpthxljpsuwj_ind_14').style.opacity = 1;\"      onmouseout=\"document.getElementById('_tp_jsgeseoazpthxljpsuwj_ind_14').style.textDecoration = 'none';document.getElementById('_fs_jsgeseoazpthxljpsuwj_ind_14').style.opacity = 0;document.getElementById('_fb_jsgeseoazpthxljpsuwj_ind_14').style.opacity = 0;\" style=\"fill:rgb(0,0,0,0)\" /><g transform=\"translate(-6.0,0)\">  <svg x=\"42.77377431325342%\" y=\"40\" height=\"18\" overflow=\"visible\" width=\"30\">    <path d=\"M 8 -9 l -6 18 L 8 25\" fill=\"none\" style=\"stroke:rgb(208, 230, 250);stroke-width:2\" />  </svg></g><rect x=\"37.071701473849465%\" y=\"40\" height=\"20\" width=\"5.702072839403954%\"      onmouseover=\"document.getElementById('_tp_jsgeseoazpthxljpsuwj_ind_5').style.textDecoration = 'underline';document.getElementById('_fs_jsgeseoazpthxljpsuwj_ind_5').style.opacity = 1;document.getElementById('_fb_jsgeseoazpthxljpsuwj_ind_5').style.opacity = 1;\"      onmouseout=\"document.getElementById('_tp_jsgeseoazpthxljpsuwj_ind_5').style.textDecoration = 'none';document.getElementById('_fs_jsgeseoazpthxljpsuwj_ind_5').style.opacity = 0;document.getElementById('_fb_jsgeseoazpthxljpsuwj_ind_5').style.opacity = 0;\" style=\"fill:rgb(0,0,0,0)\" /><g transform=\"translate(-6.0,0)\">  <svg x=\"48.3801682183368%\" y=\"40\" height=\"18\" overflow=\"visible\" width=\"30\">    <path d=\"M 8 -9 l -6 18 L 8 25\" fill=\"none\" style=\"stroke:rgb(208, 230, 250);stroke-width:2\" />  </svg></g><rect x=\"42.77377431325342%\" y=\"40\" height=\"20\" width=\"5.6063939050833795%\"      onmouseover=\"document.getElementById('_tp_jsgeseoazpthxljpsuwj_ind_15').style.textDecoration = 'underline';document.getElementById('_fs_jsgeseoazpthxljpsuwj_ind_15').style.opacity = 1;document.getElementById('_fb_jsgeseoazpthxljpsuwj_ind_15').style.opacity = 1;\"      onmouseout=\"document.getElementById('_tp_jsgeseoazpthxljpsuwj_ind_15').style.textDecoration = 'none';document.getElementById('_fs_jsgeseoazpthxljpsuwj_ind_15').style.opacity = 0;document.getElementById('_fb_jsgeseoazpthxljpsuwj_ind_15').style.opacity = 0;\" style=\"fill:rgb(0,0,0,0)\" /><g transform=\"translate(-6.0,0)\">  <svg x=\"53.79205685983893%\" y=\"40\" height=\"18\" overflow=\"visible\" width=\"30\">    <path d=\"M 8 -9 l -6 18 L 8 25\" fill=\"none\" style=\"stroke:rgb(208, 230, 250);stroke-width:2\" />  </svg></g><rect x=\"48.3801682183368%\" y=\"40\" height=\"20\" width=\"5.411888641502131%\"      onmouseover=\"document.getElementById('_tp_jsgeseoazpthxljpsuwj_ind_13').style.textDecoration = 'underline';document.getElementById('_fs_jsgeseoazpthxljpsuwj_ind_13').style.opacity = 1;document.getElementById('_fb_jsgeseoazpthxljpsuwj_ind_13').style.opacity = 1;\"      onmouseout=\"document.getElementById('_tp_jsgeseoazpthxljpsuwj_ind_13').style.textDecoration = 'none';document.getElementById('_fs_jsgeseoazpthxljpsuwj_ind_13').style.opacity = 0;document.getElementById('_fb_jsgeseoazpthxljpsuwj_ind_13').style.opacity = 0;\" style=\"fill:rgb(0,0,0,0)\" /><g transform=\"translate(-6.0,0)\">  <svg x=\"58.88146828261103%\" y=\"40\" height=\"18\" overflow=\"visible\" width=\"30\">    <path d=\"M 8 -9 l -6 18 L 8 25\" fill=\"none\" style=\"stroke:rgb(208, 230, 250);stroke-width:2\" />  </svg></g><rect x=\"53.79205685983893%\" y=\"40\" height=\"20\" width=\"5.089411422772102%\"      onmouseover=\"document.getElementById('_tp_jsgeseoazpthxljpsuwj_ind_12').style.textDecoration = 'underline';document.getElementById('_fs_jsgeseoazpthxljpsuwj_ind_12').style.opacity = 1;document.getElementById('_fb_jsgeseoazpthxljpsuwj_ind_12').style.opacity = 1;\"      onmouseout=\"document.getElementById('_tp_jsgeseoazpthxljpsuwj_ind_12').style.textDecoration = 'none';document.getElementById('_fs_jsgeseoazpthxljpsuwj_ind_12').style.opacity = 0;document.getElementById('_fb_jsgeseoazpthxljpsuwj_ind_12').style.opacity = 0;\" style=\"fill:rgb(0,0,0,0)\" /><g transform=\"translate(-6.0,0)\">  <svg x=\"63.473251161575064%\" y=\"40\" height=\"18\" overflow=\"visible\" width=\"30\">    <path d=\"M 8 -9 l -6 18 L 8 25\" fill=\"none\" style=\"stroke:rgb(208, 230, 250);stroke-width:2\" />  </svg></g><rect x=\"58.88146828261103%\" y=\"40\" height=\"20\" width=\"4.5917828789640325%\"      onmouseover=\"document.getElementById('_tp_jsgeseoazpthxljpsuwj_ind_10').style.textDecoration = 'underline';document.getElementById('_fs_jsgeseoazpthxljpsuwj_ind_10').style.opacity = 1;document.getElementById('_fb_jsgeseoazpthxljpsuwj_ind_10').style.opacity = 1;\"      onmouseout=\"document.getElementById('_tp_jsgeseoazpthxljpsuwj_ind_10').style.textDecoration = 'none';document.getElementById('_fs_jsgeseoazpthxljpsuwj_ind_10').style.opacity = 0;document.getElementById('_fb_jsgeseoazpthxljpsuwj_ind_10').style.opacity = 0;\" style=\"fill:rgb(0,0,0,0)\" /><g transform=\"translate(-6.0,0)\">  <svg x=\"67.87734474549036%\" y=\"40\" height=\"18\" overflow=\"visible\" width=\"30\">    <path d=\"M 8 -9 l -6 18 L 8 25\" fill=\"none\" style=\"stroke:rgb(208, 230, 250);stroke-width:2\" />  </svg></g><rect x=\"63.473251161575064%\" y=\"40\" height=\"20\" width=\"4.404093583915298%\"      onmouseover=\"document.getElementById('_tp_jsgeseoazpthxljpsuwj_ind_2').style.textDecoration = 'underline';document.getElementById('_fs_jsgeseoazpthxljpsuwj_ind_2').style.opacity = 1;document.getElementById('_fb_jsgeseoazpthxljpsuwj_ind_2').style.opacity = 1;\"      onmouseout=\"document.getElementById('_tp_jsgeseoazpthxljpsuwj_ind_2').style.textDecoration = 'none';document.getElementById('_fs_jsgeseoazpthxljpsuwj_ind_2').style.opacity = 0;document.getElementById('_fb_jsgeseoazpthxljpsuwj_ind_2').style.opacity = 0;\" style=\"fill:rgb(0,0,0,0)\" /><g transform=\"translate(-6.0,0)\">  <svg x=\"72.25594255853342%\" y=\"40\" height=\"18\" overflow=\"visible\" width=\"30\">    <path d=\"M 8 -9 l -6 18 L 8 25\" fill=\"none\" style=\"stroke:rgb(208, 230, 250);stroke-width:2\" />  </svg></g><rect x=\"67.87734474549036%\" y=\"40\" height=\"20\" width=\"4.378597813043058%\"      onmouseover=\"document.getElementById('_tp_jsgeseoazpthxljpsuwj_ind_7').style.textDecoration = 'underline';document.getElementById('_fs_jsgeseoazpthxljpsuwj_ind_7').style.opacity = 1;document.getElementById('_fb_jsgeseoazpthxljpsuwj_ind_7').style.opacity = 1;\"      onmouseout=\"document.getElementById('_tp_jsgeseoazpthxljpsuwj_ind_7').style.textDecoration = 'none';document.getElementById('_fs_jsgeseoazpthxljpsuwj_ind_7').style.opacity = 0;document.getElementById('_fb_jsgeseoazpthxljpsuwj_ind_7').style.opacity = 0;\" style=\"fill:rgb(0,0,0,0)\" /><g transform=\"translate(-6.0,0)\">  <svg x=\"76.12699312147127%\" y=\"40\" height=\"18\" overflow=\"visible\" width=\"30\">    <path d=\"M 8 -9 l -6 18 L 8 25\" fill=\"none\" style=\"stroke:rgb(208, 230, 250);stroke-width:2\" />  </svg></g><rect x=\"72.25594255853342%\" y=\"40\" height=\"20\" width=\"3.871050562937853%\"      onmouseover=\"document.getElementById('_tp_jsgeseoazpthxljpsuwj_ind_1').style.textDecoration = 'underline';document.getElementById('_fs_jsgeseoazpthxljpsuwj_ind_1').style.opacity = 1;document.getElementById('_fb_jsgeseoazpthxljpsuwj_ind_1').style.opacity = 1;\"      onmouseout=\"document.getElementById('_tp_jsgeseoazpthxljpsuwj_ind_1').style.textDecoration = 'none';document.getElementById('_fs_jsgeseoazpthxljpsuwj_ind_1').style.opacity = 0;document.getElementById('_fb_jsgeseoazpthxljpsuwj_ind_1').style.opacity = 0;\" style=\"fill:rgb(0,0,0,0)\" /><g transform=\"translate(-6.0,0)\">  <svg x=\"79.73194360930066%\" y=\"40\" height=\"18\" overflow=\"visible\" width=\"30\">    <path d=\"M 8 -9 l -6 18 L 8 25\" fill=\"none\" style=\"stroke:rgb(208, 230, 250);stroke-width:2\" />  </svg></g><rect x=\"76.12699312147127%\" y=\"40\" height=\"20\" width=\"3.6049504878293845%\"      onmouseover=\"document.getElementById('_tp_jsgeseoazpthxljpsuwj_ind_6').style.textDecoration = 'underline';document.getElementById('_fs_jsgeseoazpthxljpsuwj_ind_6').style.opacity = 1;document.getElementById('_fb_jsgeseoazpthxljpsuwj_ind_6').style.opacity = 1;\"      onmouseout=\"document.getElementById('_tp_jsgeseoazpthxljpsuwj_ind_6').style.textDecoration = 'none';document.getElementById('_fs_jsgeseoazpthxljpsuwj_ind_6').style.opacity = 0;document.getElementById('_fb_jsgeseoazpthxljpsuwj_ind_6').style.opacity = 0;\" style=\"fill:rgb(0,0,0,0)\" /><g transform=\"translate(-6.0,0)\">  <svg x=\"82.92644464944671%\" y=\"40\" height=\"18\" overflow=\"visible\" width=\"30\">    <path d=\"M 8 -9 l -6 18 L 8 25\" fill=\"none\" style=\"stroke:rgb(208, 230, 250);stroke-width:2\" />  </svg></g><rect x=\"79.73194360930066%\" y=\"40\" height=\"20\" width=\"3.1945010401460507%\"      onmouseover=\"document.getElementById('_tp_jsgeseoazpthxljpsuwj_ind_17').style.textDecoration = 'underline';document.getElementById('_fs_jsgeseoazpthxljpsuwj_ind_17').style.opacity = 1;document.getElementById('_fb_jsgeseoazpthxljpsuwj_ind_17').style.opacity = 1;\"      onmouseout=\"document.getElementById('_tp_jsgeseoazpthxljpsuwj_ind_17').style.textDecoration = 'none';document.getElementById('_fs_jsgeseoazpthxljpsuwj_ind_17').style.opacity = 0;document.getElementById('_fb_jsgeseoazpthxljpsuwj_ind_17').style.opacity = 0;\" style=\"fill:rgb(0,0,0,0)\" /><g transform=\"translate(-6.0,0)\">  <svg x=\"85.5648050148053%\" y=\"40\" height=\"18\" overflow=\"visible\" width=\"30\">    <path d=\"M 8 -9 l -6 18 L 8 25\" fill=\"none\" style=\"stroke:rgb(208, 230, 250);stroke-width:2\" />  </svg></g><rect x=\"82.92644464944671%\" y=\"40\" height=\"20\" width=\"2.6383603653585936%\"      onmouseover=\"document.getElementById('_tp_jsgeseoazpthxljpsuwj_ind_0').style.textDecoration = 'underline';document.getElementById('_fs_jsgeseoazpthxljpsuwj_ind_0').style.opacity = 1;document.getElementById('_fb_jsgeseoazpthxljpsuwj_ind_0').style.opacity = 1;\"      onmouseout=\"document.getElementById('_tp_jsgeseoazpthxljpsuwj_ind_0').style.textDecoration = 'none';document.getElementById('_fs_jsgeseoazpthxljpsuwj_ind_0').style.opacity = 0;document.getElementById('_fb_jsgeseoazpthxljpsuwj_ind_0').style.opacity = 0;\" style=\"fill:rgb(0,0,0,0)\" /><g transform=\"translate(-6.0,0)\">  <svg x=\"87.78119277676623%\" y=\"40\" height=\"18\" overflow=\"visible\" width=\"30\">    <path d=\"M 8 -9 l -6 18 L 8 25\" fill=\"none\" style=\"stroke:rgb(208, 230, 250);stroke-width:2\" />  </svg></g><rect x=\"85.5648050148053%\" y=\"40\" height=\"20\" width=\"2.216387761960931%\"      onmouseover=\"document.getElementById('_tp_jsgeseoazpthxljpsuwj_ind_8').style.textDecoration = 'underline';document.getElementById('_fs_jsgeseoazpthxljpsuwj_ind_8').style.opacity = 1;document.getElementById('_fb_jsgeseoazpthxljpsuwj_ind_8').style.opacity = 1;\"      onmouseout=\"document.getElementById('_tp_jsgeseoazpthxljpsuwj_ind_8').style.textDecoration = 'none';document.getElementById('_fs_jsgeseoazpthxljpsuwj_ind_8').style.opacity = 0;document.getElementById('_fb_jsgeseoazpthxljpsuwj_ind_8').style.opacity = 0;\" style=\"fill:rgb(0,0,0,0)\" /><g transform=\"translate(-6.0,0)\">  <svg x=\"89.91228827511706%\" y=\"40\" height=\"18\" overflow=\"visible\" width=\"30\">    <path d=\"M 8 -9 l -6 18 L 8 25\" fill=\"none\" style=\"stroke:rgb(208, 230, 250);stroke-width:2\" />  </svg></g><rect x=\"87.78119277676623%\" y=\"40\" height=\"20\" width=\"2.131095498350831%\"      onmouseover=\"document.getElementById('_tp_jsgeseoazpthxljpsuwj_ind_16').style.textDecoration = 'underline';document.getElementById('_fs_jsgeseoazpthxljpsuwj_ind_16').style.opacity = 1;document.getElementById('_fb_jsgeseoazpthxljpsuwj_ind_16').style.opacity = 1;\"      onmouseout=\"document.getElementById('_tp_jsgeseoazpthxljpsuwj_ind_16').style.textDecoration = 'none';document.getElementById('_fs_jsgeseoazpthxljpsuwj_ind_16').style.opacity = 0;document.getElementById('_fb_jsgeseoazpthxljpsuwj_ind_16').style.opacity = 0;\" style=\"fill:rgb(0,0,0,0)\" /><rect x=\"89.91228827511706%\" y=\"40\" height=\"20\" width=\"1.7543362795298663%\"      onmouseover=\"document.getElementById('_tp_jsgeseoazpthxljpsuwj_ind_9').style.textDecoration = 'underline';document.getElementById('_fs_jsgeseoazpthxljpsuwj_ind_9').style.opacity = 1;document.getElementById('_fb_jsgeseoazpthxljpsuwj_ind_9').style.opacity = 1;\"      onmouseout=\"document.getElementById('_tp_jsgeseoazpthxljpsuwj_ind_9').style.textDecoration = 'none';document.getElementById('_fs_jsgeseoazpthxljpsuwj_ind_9').style.opacity = 0;document.getElementById('_fb_jsgeseoazpthxljpsuwj_ind_9').style.opacity = 0;\" style=\"fill:rgb(0,0,0,0)\" /></svg><div align='center'><div style=\"color: rgb(120,120,120); font-size: 12px; margin-top: -15px;\">inputs</div><div style='display: inline; text-align: center;'\n",
       "    ><div style='display: none; color: #999; padding-top: 0px; font-size: 12px;'>-0.001 / 2</div\n",
       "        ><div id='_tp_jsgeseoazpthxljpsuwj_ind_0'\n",
       "            style='display: inline; background: rgba(30.0, 136.0, 229.0, 0.35361457714398903); border-radius: 3px; padding: 0px'\n",
       "            onclick=\"\n",
       "            if (this.previousSibling.style.display == 'none') {\n",
       "                this.previousSibling.style.display = 'block';\n",
       "                this.parentNode.style.display = 'inline-block';\n",
       "            } else {\n",
       "                this.previousSibling.style.display = 'none';\n",
       "                this.parentNode.style.display = 'inline';\n",
       "            }\"\n",
       "            onmouseover=\"document.getElementById('_fb_jsgeseoazpthxljpsuwj_ind_0').style.opacity = 1; document.getElementById('_fs_jsgeseoazpthxljpsuwj_ind_0').style.opacity = 1;\"\n",
       "            onmouseout=\"document.getElementById('_fb_jsgeseoazpthxljpsuwj_ind_0').style.opacity = 0; document.getElementById('_fs_jsgeseoazpthxljpsuwj_ind_0').style.opacity = 0;\"\n",
       "        >i </div></div><div style='display: inline; text-align: center;'\n",
       "    ><div style='display: none; color: #999; padding-top: 0px; font-size: 12px;'>-0.001</div\n",
       "        ><div id='_tp_jsgeseoazpthxljpsuwj_ind_1'\n",
       "            style='display: inline; background: rgba(30.0, 136.0, 229.0, 0.5191523073876015); border-radius: 3px; padding: 0px'\n",
       "            onclick=\"\n",
       "            if (this.previousSibling.style.display == 'none') {\n",
       "                this.previousSibling.style.display = 'block';\n",
       "                this.parentNode.style.display = 'inline-block';\n",
       "            } else {\n",
       "                this.previousSibling.style.display = 'none';\n",
       "                this.parentNode.style.display = 'inline';\n",
       "            }\"\n",
       "            onmouseover=\"document.getElementById('_fb_jsgeseoazpthxljpsuwj_ind_1').style.opacity = 1; document.getElementById('_fs_jsgeseoazpthxljpsuwj_ind_1').style.opacity = 1;\"\n",
       "            onmouseout=\"document.getElementById('_fb_jsgeseoazpthxljpsuwj_ind_1').style.opacity = 0; document.getElementById('_fs_jsgeseoazpthxljpsuwj_ind_1').style.opacity = 0;\"\n",
       "        >am </div></div><div style='display: inline; text-align: center;'\n",
       "    ><div style='display: none; color: #999; padding-top: 0px; font-size: 12px;'>-0.001</div\n",
       "        ><div id='_tp_jsgeseoazpthxljpsuwj_ind_2'\n",
       "            style='display: inline; background: rgba(30.0, 136.0, 229.0, 0.5900970489205783); border-radius: 3px; padding: 0px'\n",
       "            onclick=\"\n",
       "            if (this.previousSibling.style.display == 'none') {\n",
       "                this.previousSibling.style.display = 'block';\n",
       "                this.parentNode.style.display = 'inline-block';\n",
       "            } else {\n",
       "                this.previousSibling.style.display = 'none';\n",
       "                this.parentNode.style.display = 'inline';\n",
       "            }\"\n",
       "            onmouseover=\"document.getElementById('_fb_jsgeseoazpthxljpsuwj_ind_2').style.opacity = 1; document.getElementById('_fs_jsgeseoazpthxljpsuwj_ind_2').style.opacity = 1;\"\n",
       "            onmouseout=\"document.getElementById('_fb_jsgeseoazpthxljpsuwj_ind_2').style.opacity = 0; document.getElementById('_fs_jsgeseoazpthxljpsuwj_ind_2').style.opacity = 0;\"\n",
       "        >the </div></div><div style='display: inline; text-align: center;'\n",
       "    ><div style='display: none; color: #999; padding-top: 0px; font-size: 12px;'>-0.002</div\n",
       "        ><div id='_tp_jsgeseoazpthxljpsuwj_ind_3'\n",
       "            style='display: inline; background: rgba(30.0, 136.0, 229.0, 1.0); border-radius: 3px; padding: 0px'\n",
       "            onclick=\"\n",
       "            if (this.previousSibling.style.display == 'none') {\n",
       "                this.previousSibling.style.display = 'block';\n",
       "                this.parentNode.style.display = 'inline-block';\n",
       "            } else {\n",
       "                this.previousSibling.style.display = 'none';\n",
       "                this.parentNode.style.display = 'inline';\n",
       "            }\"\n",
       "            onmouseover=\"document.getElementById('_fb_jsgeseoazpthxljpsuwj_ind_3').style.opacity = 1; document.getElementById('_fs_jsgeseoazpthxljpsuwj_ind_3').style.opacity = 1;\"\n",
       "            onmouseout=\"document.getElementById('_fb_jsgeseoazpthxljpsuwj_ind_3').style.opacity = 0; document.getElementById('_fs_jsgeseoazpthxljpsuwj_ind_3').style.opacity = 0;\"\n",
       "        >lo</div></div><div style='display: inline; text-align: center;'\n",
       "    ><div style='display: none; color: #999; padding-top: 0px; font-size: 12px;'>-0.002</div\n",
       "        ><div id='_tp_jsgeseoazpthxljpsuwj_ind_4'\n",
       "            style='display: inline; background: rgba(30.0, 136.0, 229.0, 0.9842345018815607); border-radius: 3px; padding: 0px'\n",
       "            onclick=\"\n",
       "            if (this.previousSibling.style.display == 'none') {\n",
       "                this.previousSibling.style.display = 'block';\n",
       "                this.parentNode.style.display = 'inline-block';\n",
       "            } else {\n",
       "                this.previousSibling.style.display = 'none';\n",
       "                this.parentNode.style.display = 'inline';\n",
       "            }\"\n",
       "            onmouseover=\"document.getElementById('_fb_jsgeseoazpthxljpsuwj_ind_4').style.opacity = 1; document.getElementById('_fs_jsgeseoazpthxljpsuwj_ind_4').style.opacity = 1;\"\n",
       "            onmouseout=\"document.getElementById('_fb_jsgeseoazpthxljpsuwj_ind_4').style.opacity = 0; document.getElementById('_fs_jsgeseoazpthxljpsuwj_ind_4').style.opacity = 0;\"\n",
       "        >ra</div></div><div style='display: inline; text-align: center;'\n",
       "    ><div style='display: none; color: #999; padding-top: 0px; font-size: 12px;'>-0.001</div\n",
       "        ><div id='_tp_jsgeseoazpthxljpsuwj_ind_5'\n",
       "            style='display: inline; background: rgba(30.0, 136.0, 229.0, 0.7714002772826302); border-radius: 3px; padding: 0px'\n",
       "            onclick=\"\n",
       "            if (this.previousSibling.style.display == 'none') {\n",
       "                this.previousSibling.style.display = 'block';\n",
       "                this.parentNode.style.display = 'inline-block';\n",
       "            } else {\n",
       "                this.previousSibling.style.display = 'none';\n",
       "                this.parentNode.style.display = 'inline';\n",
       "            }\"\n",
       "            onmouseover=\"document.getElementById('_fb_jsgeseoazpthxljpsuwj_ind_5').style.opacity = 1; document.getElementById('_fs_jsgeseoazpthxljpsuwj_ind_5').style.opacity = 1;\"\n",
       "            onmouseout=\"document.getElementById('_fb_jsgeseoazpthxljpsuwj_ind_5').style.opacity = 0; document.getElementById('_fs_jsgeseoazpthxljpsuwj_ind_5').style.opacity = 0;\"\n",
       "        >x </div></div><div style='display: inline; text-align: center;'\n",
       "    ><div style='display: none; color: #999; padding-top: 0px; font-size: 12px;'>-0.001</div\n",
       "        ><div id='_tp_jsgeseoazpthxljpsuwj_ind_6'\n",
       "            style='display: inline; background: rgba(30.0, 136.0, 229.0, 0.4876213111507228); border-radius: 3px; padding: 0px'\n",
       "            onclick=\"\n",
       "            if (this.previousSibling.style.display == 'none') {\n",
       "                this.previousSibling.style.display = 'block';\n",
       "                this.parentNode.style.display = 'inline-block';\n",
       "            } else {\n",
       "                this.previousSibling.style.display = 'none';\n",
       "                this.parentNode.style.display = 'inline';\n",
       "            }\"\n",
       "            onmouseover=\"document.getElementById('_fb_jsgeseoazpthxljpsuwj_ind_6').style.opacity = 1; document.getElementById('_fs_jsgeseoazpthxljpsuwj_ind_6').style.opacity = 1;\"\n",
       "            onmouseout=\"document.getElementById('_fb_jsgeseoazpthxljpsuwj_ind_6').style.opacity = 0; document.getElementById('_fs_jsgeseoazpthxljpsuwj_ind_6').style.opacity = 0;\"\n",
       "        >i </div></div><div style='display: inline; text-align: center;'\n",
       "    ><div style='display: none; color: #999; padding-top: 0px; font-size: 12px;'>-0.001</div\n",
       "        ><div id='_tp_jsgeseoazpthxljpsuwj_ind_7'\n",
       "            style='display: inline; background: rgba(30.0, 136.0, 229.0, 0.5900970489205783); border-radius: 3px; padding: 0px'\n",
       "            onclick=\"\n",
       "            if (this.previousSibling.style.display == 'none') {\n",
       "                this.previousSibling.style.display = 'block';\n",
       "                this.parentNode.style.display = 'inline-block';\n",
       "            } else {\n",
       "                this.previousSibling.style.display = 'none';\n",
       "                this.parentNode.style.display = 'inline';\n",
       "            }\"\n",
       "            onmouseover=\"document.getElementById('_fb_jsgeseoazpthxljpsuwj_ind_7').style.opacity = 1; document.getElementById('_fs_jsgeseoazpthxljpsuwj_ind_7').style.opacity = 1;\"\n",
       "            onmouseout=\"document.getElementById('_fb_jsgeseoazpthxljpsuwj_ind_7').style.opacity = 0; document.getElementById('_fs_jsgeseoazpthxljpsuwj_ind_7').style.opacity = 0;\"\n",
       "        >speak </div></div><div style='display: inline; text-align: center;'\n",
       "    ><div style='display: none; color: #999; padding-top: 0px; font-size: 12px;'>-0.0</div\n",
       "        ><div id='_tp_jsgeseoazpthxljpsuwj_ind_8'\n",
       "            style='display: inline; background: rgba(30.0, 136.0, 229.0, 0.2984353337294513); border-radius: 3px; padding: 0px'\n",
       "            onclick=\"\n",
       "            if (this.previousSibling.style.display == 'none') {\n",
       "                this.previousSibling.style.display = 'block';\n",
       "                this.parentNode.style.display = 'inline-block';\n",
       "            } else {\n",
       "                this.previousSibling.style.display = 'none';\n",
       "                this.parentNode.style.display = 'inline';\n",
       "            }\"\n",
       "            onmouseover=\"document.getElementById('_fb_jsgeseoazpthxljpsuwj_ind_8').style.opacity = 1; document.getElementById('_fs_jsgeseoazpthxljpsuwj_ind_8').style.opacity = 1;\"\n",
       "            onmouseout=\"document.getElementById('_fb_jsgeseoazpthxljpsuwj_ind_8').style.opacity = 0; document.getElementById('_fs_jsgeseoazpthxljpsuwj_ind_8').style.opacity = 0;\"\n",
       "        >for </div></div><div style='display: inline; text-align: center;'\n",
       "    ><div style='display: none; color: #999; padding-top: 0px; font-size: 12px;'>-0.0</div\n",
       "        ><div id='_tp_jsgeseoazpthxljpsuwj_ind_9'\n",
       "            style='display: inline; background: rgba(30.0, 136.0, 229.0, 0.23537334125569417); border-radius: 3px; padding: 0px'\n",
       "            onclick=\"\n",
       "            if (this.previousSibling.style.display == 'none') {\n",
       "                this.previousSibling.style.display = 'block';\n",
       "                this.parentNode.style.display = 'inline-block';\n",
       "            } else {\n",
       "                this.previousSibling.style.display = 'none';\n",
       "                this.parentNode.style.display = 'inline';\n",
       "            }\"\n",
       "            onmouseover=\"document.getElementById('_fb_jsgeseoazpthxljpsuwj_ind_9').style.opacity = 1; document.getElementById('_fs_jsgeseoazpthxljpsuwj_ind_9').style.opacity = 1;\"\n",
       "            onmouseout=\"document.getElementById('_fb_jsgeseoazpthxljpsuwj_ind_9').style.opacity = 0; document.getElementById('_fs_jsgeseoazpthxljpsuwj_ind_9').style.opacity = 0;\"\n",
       "        >the </div></div><div style='display: inline; text-align: center;'\n",
       "    ><div style='display: none; color: #999; padding-top: 0px; font-size: 12px;'>-0.001</div\n",
       "        ><div id='_tp_jsgeseoazpthxljpsuwj_ind_10'\n",
       "            style='display: inline; background: rgba(30.0, 136.0, 229.0, 0.621628045157457); border-radius: 3px; padding: 0px'\n",
       "            onclick=\"\n",
       "            if (this.previousSibling.style.display == 'none') {\n",
       "                this.previousSibling.style.display = 'block';\n",
       "                this.parentNode.style.display = 'inline-block';\n",
       "            } else {\n",
       "                this.previousSibling.style.display = 'none';\n",
       "                this.parentNode.style.display = 'inline';\n",
       "            }\"\n",
       "            onmouseover=\"document.getElementById('_fb_jsgeseoazpthxljpsuwj_ind_10').style.opacity = 1; document.getElementById('_fs_jsgeseoazpthxljpsuwj_ind_10').style.opacity = 1;\"\n",
       "            onmouseout=\"document.getElementById('_fb_jsgeseoazpthxljpsuwj_ind_10').style.opacity = 0; document.getElementById('_fs_jsgeseoazpthxljpsuwj_ind_10').style.opacity = 0;\"\n",
       "        >trees </div></div><div style='display: inline; text-align: center;'\n",
       "    ><div style='display: none; color: #999; padding-top: 0px; font-size: 12px;'>0.0</div\n",
       "        ><div id='_tp_jsgeseoazpthxljpsuwj_ind_11'\n",
       "            style='display: inline; background: rgba(255.0, 13.0, 87.0, 0.06195286195286207); border-radius: 3px; padding: 0px'\n",
       "            onclick=\"\n",
       "            if (this.previousSibling.style.display == 'none') {\n",
       "                this.previousSibling.style.display = 'block';\n",
       "                this.parentNode.style.display = 'inline-block';\n",
       "            } else {\n",
       "                this.previousSibling.style.display = 'none';\n",
       "                this.parentNode.style.display = 'inline';\n",
       "            }\"\n",
       "            onmouseover=\"document.getElementById('_fb_jsgeseoazpthxljpsuwj_ind_11').style.opacity = 1; document.getElementById('_fs_jsgeseoazpthxljpsuwj_ind_11').style.opacity = 1;\"\n",
       "            onmouseout=\"document.getElementById('_fb_jsgeseoazpthxljpsuwj_ind_11').style.opacity = 0; document.getElementById('_fs_jsgeseoazpthxljpsuwj_ind_11').style.opacity = 0;\"\n",
       "        >and </div></div><div style='display: inline; text-align: center;'\n",
       "    ><div style='display: none; color: #999; padding-top: 0px; font-size: 12px;'>-0.001</div\n",
       "        ><div id='_tp_jsgeseoazpthxljpsuwj_ind_12'\n",
       "            style='display: inline; background: rgba(30.0, 136.0, 229.0, 0.684690037631214); border-radius: 3px; padding: 0px'\n",
       "            onclick=\"\n",
       "            if (this.previousSibling.style.display == 'none') {\n",
       "                this.previousSibling.style.display = 'block';\n",
       "                this.parentNode.style.display = 'inline-block';\n",
       "            } else {\n",
       "                this.previousSibling.style.display = 'none';\n",
       "                this.parentNode.style.display = 'inline';\n",
       "            }\"\n",
       "            onmouseover=\"document.getElementById('_fb_jsgeseoazpthxljpsuwj_ind_12').style.opacity = 1; document.getElementById('_fs_jsgeseoazpthxljpsuwj_ind_12').style.opacity = 1;\"\n",
       "            onmouseout=\"document.getElementById('_fb_jsgeseoazpthxljpsuwj_ind_12').style.opacity = 0; document.getElementById('_fs_jsgeseoazpthxljpsuwj_ind_12').style.opacity = 0;\"\n",
       "        >for </div></div><div style='display: inline; text-align: center;'\n",
       "    ><div style='display: none; color: #999; padding-top: 0px; font-size: 12px;'>-0.001</div\n",
       "        ><div id='_tp_jsgeseoazpthxljpsuwj_ind_13'\n",
       "            style='display: inline; background: rgba(30.0, 136.0, 229.0, 0.731986531986532); border-radius: 3px; padding: 0px'\n",
       "            onclick=\"\n",
       "            if (this.previousSibling.style.display == 'none') {\n",
       "                this.previousSibling.style.display = 'block';\n",
       "                this.parentNode.style.display = 'inline-block';\n",
       "            } else {\n",
       "                this.previousSibling.style.display = 'none';\n",
       "                this.parentNode.style.display = 'inline';\n",
       "            }\"\n",
       "            onmouseover=\"document.getElementById('_fb_jsgeseoazpthxljpsuwj_ind_13').style.opacity = 1; document.getElementById('_fs_jsgeseoazpthxljpsuwj_ind_13').style.opacity = 1;\"\n",
       "            onmouseout=\"document.getElementById('_fb_jsgeseoazpthxljpsuwj_ind_13').style.opacity = 0; document.getElementById('_fs_jsgeseoazpthxljpsuwj_ind_13').style.opacity = 0;\"\n",
       "        >some </div></div><div style='display: inline; text-align: center;'\n",
       "    ><div style='display: none; color: #999; padding-top: 0px; font-size: 12px;'>-0.001</div\n",
       "        ><div id='_tp_jsgeseoazpthxljpsuwj_ind_14'\n",
       "            style='display: inline; background: rgba(30.0, 136.0, 229.0, 0.8265795206971678); border-radius: 3px; padding: 0px'\n",
       "            onclick=\"\n",
       "            if (this.previousSibling.style.display == 'none') {\n",
       "                this.previousSibling.style.display = 'block';\n",
       "                this.parentNode.style.display = 'inline-block';\n",
       "            } else {\n",
       "                this.previousSibling.style.display = 'none';\n",
       "                this.parentNode.style.display = 'inline';\n",
       "            }\"\n",
       "            onmouseover=\"document.getElementById('_fb_jsgeseoazpthxljpsuwj_ind_14').style.opacity = 1; document.getElementById('_fs_jsgeseoazpthxljpsuwj_ind_14').style.opacity = 1;\"\n",
       "            onmouseout=\"document.getElementById('_fb_jsgeseoazpthxljpsuwj_ind_14').style.opacity = 0; document.getElementById('_fs_jsgeseoazpthxljpsuwj_ind_14').style.opacity = 0;\"\n",
       "        >reason </div></div><div style='display: inline; text-align: center;'\n",
       "    ><div style='display: none; color: #999; padding-top: 0px; font-size: 12px;'>-0.001</div\n",
       "        ><div id='_tp_jsgeseoazpthxljpsuwj_ind_15'\n",
       "            style='display: inline; background: rgba(30.0, 136.0, 229.0, 0.7556347791641909); border-radius: 3px; padding: 0px'\n",
       "            onclick=\"\n",
       "            if (this.previousSibling.style.display == 'none') {\n",
       "                this.previousSibling.style.display = 'block';\n",
       "                this.parentNode.style.display = 'inline-block';\n",
       "            } else {\n",
       "                this.previousSibling.style.display = 'none';\n",
       "                this.parentNode.style.display = 'inline';\n",
       "            }\"\n",
       "            onmouseover=\"document.getElementById('_fb_jsgeseoazpthxljpsuwj_ind_15').style.opacity = 1; document.getElementById('_fs_jsgeseoazpthxljpsuwj_ind_15').style.opacity = 1;\"\n",
       "            onmouseout=\"document.getElementById('_fb_jsgeseoazpthxljpsuwj_ind_15').style.opacity = 0; document.getElementById('_fs_jsgeseoazpthxljpsuwj_ind_15').style.opacity = 0;\"\n",
       "        >they </div></div><div style='display: inline; text-align: center;'\n",
       "    ><div style='display: none; color: #999; padding-top: 0px; font-size: 12px;'>-0.0</div\n",
       "        ><div id='_tp_jsgeseoazpthxljpsuwj_ind_16'\n",
       "            style='display: inline; background: rgba(30.0, 136.0, 229.0, 0.282669835611012); border-radius: 3px; padding: 0px'\n",
       "            onclick=\"\n",
       "            if (this.previousSibling.style.display == 'none') {\n",
       "                this.previousSibling.style.display = 'block';\n",
       "                this.parentNode.style.display = 'inline-block';\n",
       "            } else {\n",
       "                this.previousSibling.style.display = 'none';\n",
       "                this.parentNode.style.display = 'inline';\n",
       "            }\"\n",
       "            onmouseover=\"document.getElementById('_fb_jsgeseoazpthxljpsuwj_ind_16').style.opacity = 1; document.getElementById('_fs_jsgeseoazpthxljpsuwj_ind_16').style.opacity = 1;\"\n",
       "            onmouseout=\"document.getElementById('_fb_jsgeseoazpthxljpsuwj_ind_16').style.opacity = 0; document.getElementById('_fs_jsgeseoazpthxljpsuwj_ind_16').style.opacity = 0;\"\n",
       "        >speak </div></div><div style='display: inline; text-align: center;'\n",
       "    ><div style='display: none; color: #999; padding-top: 0px; font-size: 12px;'>-0.001</div\n",
       "        ><div id='_tp_jsgeseoazpthxljpsuwj_ind_17'\n",
       "            style='display: inline; background: rgba(30.0, 136.0, 229.0, 0.42455931867696567); border-radius: 3px; padding: 0px'\n",
       "            onclick=\"\n",
       "            if (this.previousSibling.style.display == 'none') {\n",
       "                this.previousSibling.style.display = 'block';\n",
       "                this.parentNode.style.display = 'inline-block';\n",
       "            } else {\n",
       "                this.previousSibling.style.display = 'none';\n",
       "                this.parentNode.style.display = 'inline';\n",
       "            }\"\n",
       "            onmouseover=\"document.getElementById('_fb_jsgeseoazpthxljpsuwj_ind_17').style.opacity = 1; document.getElementById('_fs_jsgeseoazpthxljpsuwj_ind_17').style.opacity = 1;\"\n",
       "            onmouseout=\"document.getElementById('_fb_jsgeseoazpthxljpsuwj_ind_17').style.opacity = 0; document.getElementById('_fs_jsgeseoazpthxljpsuwj_ind_17').style.opacity = 0;\"\n",
       "        >vietnamese</div></div><div style='display: inline; text-align: center;'\n",
       "    ><div style='display: none; color: #999; padding-top: 0px; font-size: 12px;'>-0.002</div\n",
       "        ><div id='_tp_jsgeseoazpthxljpsuwj_ind_18'\n",
       "            style='display: inline; background: rgba(30.0, 136.0, 229.0, 1.0); border-radius: 3px; padding: 0px'\n",
       "            onclick=\"\n",
       "            if (this.previousSibling.style.display == 'none') {\n",
       "                this.previousSibling.style.display = 'block';\n",
       "                this.parentNode.style.display = 'inline-block';\n",
       "            } else {\n",
       "                this.previousSibling.style.display = 'none';\n",
       "                this.parentNode.style.display = 'inline';\n",
       "            }\"\n",
       "            onmouseover=\"document.getElementById('_fb_jsgeseoazpthxljpsuwj_ind_18').style.opacity = 1; document.getElementById('_fs_jsgeseoazpthxljpsuwj_ind_18').style.opacity = 1;\"\n",
       "            onmouseout=\"document.getElementById('_fb_jsgeseoazpthxljpsuwj_ind_18').style.opacity = 0; document.getElementById('_fs_jsgeseoazpthxljpsuwj_ind_18').style.opacity = 0;\"\n",
       "        >.</div></div><div style='display: inline; text-align: center;'\n",
       "    ><div style='display: none; color: #999; padding-top: 0px; font-size: 12px;'>0.0</div\n",
       "        ><div id='_tp_jsgeseoazpthxljpsuwj_ind_19'\n",
       "            style='display: inline; background: rgba(230.2941176470614, 26.505882352939775, 102.59215686274348, 0.0); border-radius: 3px; padding: 0px'\n",
       "            onclick=\"\n",
       "            if (this.previousSibling.style.display == 'none') {\n",
       "                this.previousSibling.style.display = 'block';\n",
       "                this.parentNode.style.display = 'inline-block';\n",
       "            } else {\n",
       "                this.previousSibling.style.display = 'none';\n",
       "                this.parentNode.style.display = 'inline';\n",
       "            }\"\n",
       "            onmouseover=\"document.getElementById('_fb_jsgeseoazpthxljpsuwj_ind_19').style.opacity = 1; document.getElementById('_fs_jsgeseoazpthxljpsuwj_ind_19').style.opacity = 1;\"\n",
       "            onmouseout=\"document.getElementById('_fb_jsgeseoazpthxljpsuwj_ind_19').style.opacity = 0; document.getElementById('_fs_jsgeseoazpthxljpsuwj_ind_19').style.opacity = 0;\"\n",
       "        ></div></div></div>"
      ]
     },
     "metadata": {},
     "output_type": "display_data"
    },
    {
     "data": {
      "text/plain": [
       "<Figure size 2000x300 with 0 Axes>"
      ]
     },
     "metadata": {},
     "output_type": "display_data"
    },
    {
     "data": {
      "text/plain": [
       ".values =\n",
       "array([[-2.87150440e-04, -2.87150440e-04, -8.42624751e-04,\n",
       "        -9.58654040e-04, -1.60730028e-03, -1.58204735e-03,\n",
       "        -1.24118960e-03, -7.84701842e-04, -9.53104289e-04,\n",
       "        -4.82448668e-04, -3.81872349e-04, -9.99509008e-04,\n",
       "         1.13148941e-04, -1.10782951e-03, -1.17802422e-03,\n",
       "        -1.33384310e-03, -1.22036284e-03, -4.63882810e-04,\n",
       "        -6.95357914e-04, -1.61923771e-03,  1.86264515e-09]])\n",
       "\n",
       ".base_values =\n",
       "array([0.05678938])\n",
       "\n",
       ".data =\n",
       "(array(['', 'i ', 'am ', 'the ', 'lo', 'ra', 'x ', 'i ', 'speak ', 'for ',\n",
       "       'the ', 'trees ', 'and ', 'for ', 'some ', 'reason ', 'they ',\n",
       "       'speak ', 'vietnamese', '.', ''], dtype=object),)"
      ]
     },
     "execution_count": 15,
     "metadata": {},
     "output_type": "execute_result"
    }
   ],
   "execution_count": 15
  }
 ],
 "metadata": {
  "kernelspec": {
   "display_name": "Python 3",
   "language": "python",
   "name": "python3"
  },
  "language_info": {
   "codemirror_mode": {
    "name": "ipython",
    "version": 2
   },
   "file_extension": ".py",
   "mimetype": "text/x-python",
   "name": "python",
   "nbconvert_exporter": "python",
   "pygments_lexer": "ipython2",
   "version": "2.7.6"
  }
 },
 "nbformat": 4,
 "nbformat_minor": 5
}
